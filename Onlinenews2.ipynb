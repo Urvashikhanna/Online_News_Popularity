{
 "cells": [
  {
   "cell_type": "code",
   "execution_count": 61,
   "metadata": {
    "collapsed": true,
    "scrolled": true
   },
   "outputs": [],
   "source": [
    "from sklearn.model_selection import train_test_split\n",
    "from preamble import *\n",
    "%matplotlib inline\n",
    "from IPython.display import display\n",
    "import pandas as pd\n",
    "import numpy as np\n",
    "import matplotlib as plt\n",
    "import mglearn\n",
    "from scipy import sparse\n",
    "import seaborn as sns\n",
    "import matplotlib.pyplot as plt\n",
    "from sklearn.decomposition import PCA\n",
    "from sklearn.decomposition import RandomizedPCA\n",
    "import matplotlib.dates as mdates\n",
    "import matplotlib.pyplot as plt\n",
    "import plotly.plotly as py\n",
    "import matplotlib.pyplot as plt; plt.rcdefaults()\n",
    "%matplotlib inline\n",
    "import numpy as np\n",
    "import matplotlib.pyplot as plt\n",
    "   "
   ]
  },
  {
   "cell_type": "code",
   "execution_count": 62,
   "metadata": {
    "scrolled": true
   },
   "outputs": [
    {
     "data": {
      "text/plain": [
       "0        Unpopular\n",
       "1          Popular\n",
       "2        Unpopular\n",
       "3        Unpopular\n",
       "4        Unpopular\n",
       "5        Unpopular\n",
       "6        Unpopular\n",
       "7        Unpopular\n",
       "8          Popular\n",
       "9        Unpopular\n",
       "10         Popular\n",
       "11         Popular\n",
       "12       Unpopular\n",
       "13         Popular\n",
       "14       Unpopular\n",
       "15         Popular\n",
       "16         Popular\n",
       "17         Popular\n",
       "18         Popular\n",
       "19         Popular\n",
       "20         Popular\n",
       "21       Unpopular\n",
       "22       Unpopular\n",
       "23         Popular\n",
       "24       Unpopular\n",
       "25       Unpopular\n",
       "26         Popular\n",
       "27         Popular\n",
       "28       Unpopular\n",
       "29       Unpopular\n",
       "           ...    \n",
       "39614      Popular\n",
       "39615      Popular\n",
       "39616      Popular\n",
       "39617    Unpopular\n",
       "39618      Popular\n",
       "39619    Unpopular\n",
       "39620      Popular\n",
       "39621      Popular\n",
       "39622      Popular\n",
       "39623    Unpopular\n",
       "39624      Popular\n",
       "39625      Popular\n",
       "39626    Unpopular\n",
       "39627    Unpopular\n",
       "39628    Unpopular\n",
       "39629      Popular\n",
       "39630      Popular\n",
       "39631    Unpopular\n",
       "39632      Popular\n",
       "39633      Popular\n",
       "39634    Unpopular\n",
       "39635    Unpopular\n",
       "39636      Popular\n",
       "39637      Popular\n",
       "39638    Unpopular\n",
       "39639      Popular\n",
       "39640      Popular\n",
       "39641      Popular\n",
       "39642    Unpopular\n",
       "39643    Unpopular\n",
       "Name: split, Length: 39644, dtype: object"
      ]
     },
     "execution_count": 62,
     "metadata": {},
     "output_type": "execute_result"
    }
   ],
   "source": [
    "\n",
    "\n",
    "df = pd.read_csv(\"C:/Users/Kapila/Desktop/Macquarie coursework/COMP777 Computing Methods of Research/Final Project/Dataset/OnlineNewsPopularity/OnlineNewsPopularity.csv\") #Reading the dataset in a dataframe using Pandas\n",
    "\n",
    "df.loc[df['shares'] < 1400, 'split'] = 'Unpopular'\n",
    "df.loc[df['shares'] >= 1400, 'split'] = 'Popular'\n",
    "\n",
    "df['split']"
   ]
  },
  {
   "cell_type": "code",
   "execution_count": 63,
   "metadata": {
    "scrolled": true
   },
   "outputs": [
    {
     "data": {
      "text/plain": [
       "(39644, 62)"
      ]
     },
     "execution_count": 63,
     "metadata": {},
     "output_type": "execute_result"
    }
   ],
   "source": [
    "df.shape\n"
   ]
  },
  {
   "cell_type": "code",
   "execution_count": 64,
   "metadata": {},
   "outputs": [
    {
     "data": {
      "text/plain": [
       "['url',\n",
       " 'timedelta',\n",
       " 'n_tokens_title',\n",
       " 'n_tokens_content',\n",
       " 'n_unique_tokens',\n",
       " 'n_non_stop_words',\n",
       " 'n_non_stop_unique_tokens',\n",
       " 'num_hrefs',\n",
       " 'num_self_hrefs',\n",
       " 'num_imgs',\n",
       " 'num_videos',\n",
       " 'average_token_length',\n",
       " 'num_keywords',\n",
       " 'data_channel_is_lifestyle',\n",
       " 'data_channel_is_entertainment',\n",
       " 'data_channel_is_bus',\n",
       " 'data_channel_is_socmed',\n",
       " 'data_channel_is_tech',\n",
       " 'data_channel_is_world',\n",
       " 'kw_min_min',\n",
       " 'kw_max_min',\n",
       " 'kw_avg_min',\n",
       " 'kw_min_max',\n",
       " 'kw_max_max',\n",
       " 'kw_avg_max',\n",
       " 'kw_min_avg',\n",
       " 'kw_max_avg',\n",
       " 'kw_avg_avg',\n",
       " 'self_reference_min_shares',\n",
       " 'self_reference_max_shares',\n",
       " 'self_reference_avg_sharess',\n",
       " 'weekday_is_monday',\n",
       " 'weekday_is_tuesday',\n",
       " 'weekday_is_wednesday',\n",
       " 'weekday_is_thursday',\n",
       " 'weekday_is_friday',\n",
       " 'weekday_is_saturday',\n",
       " 'weekday_is_sunday',\n",
       " 'is_weekend',\n",
       " 'LDA_00',\n",
       " 'LDA_01',\n",
       " 'LDA_02',\n",
       " 'LDA_03',\n",
       " 'LDA_04',\n",
       " 'global_subjectivity',\n",
       " 'global_sentiment_polarity',\n",
       " 'global_rate_positive_words',\n",
       " 'global_rate_negative_words',\n",
       " 'rate_positive_words',\n",
       " 'rate_negative_words',\n",
       " 'avg_positive_polarity',\n",
       " 'min_positive_polarity',\n",
       " 'max_positive_polarity',\n",
       " 'avg_negative_polarity',\n",
       " 'min_negative_polarity',\n",
       " 'max_negative_polarity',\n",
       " 'title_subjectivity',\n",
       " 'title_sentiment_polarity',\n",
       " 'abs_title_subjectivity',\n",
       " 'abs_title_sentiment_polarity',\n",
       " 'shares',\n",
       " 'split']"
      ]
     },
     "execution_count": 64,
     "metadata": {},
     "output_type": "execute_result"
    }
   ],
   "source": [
    "df.head()\n",
    "list(df.columns.values)"
   ]
  },
  {
   "cell_type": "code",
   "execution_count": 79,
   "metadata": {},
   "outputs": [
    {
     "data": {
      "text/plain": [
       "<matplotlib.axes._subplots.AxesSubplot at 0x2204c0dfa58>"
      ]
     },
     "execution_count": 79,
     "metadata": {},
     "output_type": "execute_result"
    },
    {
     "data": {
      "application/pdf": "[encoded data removed]",
      "image/png": "[encoded data removed]",
      "text/plain": [
       "<matplotlib.figure.Figure at 0x2204cb849e8>"
      ]
     },
     "metadata": {},
     "output_type": "display_data"
    }
   ],
   "source": [
    "df['shares'].hist(bins=100)"
   ]
  },
  {
   "cell_type": "code",
   "execution_count": 66,
   "metadata": {},
   "outputs": [
    {
     "data": {
      "text/plain": [
       "<matplotlib.axes._subplots.AxesSubplot at 0x2204bc803c8>"
      ]
     },
     "execution_count": 66,
     "metadata": {},
     "output_type": "execute_result"
    },
    {
     "data": {
      "application/pdf": "[encoded data removed]",
      "image/png": "[encoded data removed]",
      "text/plain": [
       "<matplotlib.figure.Figure at 0x22049b000b8>"
      ]
     },
     "metadata": {},
     "output_type": "display_data"
    }
   ],
   "source": [
    "df.boxplot(column='shares')"
   ]
  },
  {
   "cell_type": "code",
   "execution_count": 67,
   "metadata": {},
   "outputs": [
    {
     "name": "stdout",
     "output_type": "stream",
     "text": [
      "       n_tokens_title  n_tokens_content  n_unique_tokens  n_non_stop_words  \\\n",
      "0                  12               219             0.66               1.0   \n",
      "1                   9               211             0.58               1.0   \n",
      "2                   9               255             0.60               1.0   \n",
      "3                   9               531             0.50               1.0   \n",
      "4                  13              1072             0.42               1.0   \n",
      "5                  10               370             0.56               1.0   \n",
      "6                   8               960             0.42               1.0   \n",
      "7                  12               989             0.43               1.0   \n",
      "8                  11                97             0.67               1.0   \n",
      "9                  10               231             0.64               1.0   \n",
      "10                  9              1248             0.49               1.0   \n",
      "11                 10               187             0.67               1.0   \n",
      "12                  9               274             0.61               1.0   \n",
      "13                  9               285             0.74               1.0   \n",
      "14                  8               259             0.56               1.0   \n",
      "15                 12               682             0.46               1.0   \n",
      "16                  8              1118             0.51               1.0   \n",
      "17                  8               397             0.62               1.0   \n",
      "18                 11               103             0.69               1.0   \n",
      "19                  8              1207             0.41               1.0   \n",
      "20                 13              1248             0.39               1.0   \n",
      "21                  9               391             0.51               1.0   \n",
      "22                 11              1154             0.43               1.0   \n",
      "23                 11               125             0.67               1.0   \n",
      "24                 13               244             0.56               1.0   \n",
      "25                  8               266             0.57               1.0   \n",
      "26                  8               331             0.56               1.0   \n",
      "27                 12              1225             0.39               1.0   \n",
      "28                 10               243             0.62               1.0   \n",
      "29                 11               723             0.49               1.0   \n",
      "...               ...               ...              ...               ...   \n",
      "39614               9               904             0.47               1.0   \n",
      "39615              11                 0             0.00               0.0   \n",
      "39616              15                 0             0.00               0.0   \n",
      "39617              11               991             0.46               1.0   \n",
      "39618              14               488             0.52               1.0   \n",
      "39619              14               428             0.51               1.0   \n",
      "39620              13               413             0.56               1.0   \n",
      "39621               9               468             0.58               1.0   \n",
      "39622              11              1122             0.44               1.0   \n",
      "39623              14               436             0.53               1.0   \n",
      "39624              12               429             0.51               1.0   \n",
      "39625              13               224             0.57               1.0   \n",
      "39626              12               249             0.57               1.0   \n",
      "39627              14               874             0.48               1.0   \n",
      "39628              14               626             0.55               1.0   \n",
      "39629              13               209             0.66               1.0   \n",
      "39630              12               491             0.45               1.0   \n",
      "39631              13               746             0.47               1.0   \n",
      "39632              15               580             0.51               1.0   \n",
      "39633               9               614             0.48               1.0   \n",
      "39634               9               251             0.67               1.0   \n",
      "39635              13               478             0.51               1.0   \n",
      "39636               8              2509             0.35               1.0   \n",
      "39637              13              1629             0.43               1.0   \n",
      "39638              11               223             0.65               1.0   \n",
      "39639              11               346             0.53               1.0   \n",
      "39640              12               328             0.70               1.0   \n",
      "39641              10               442             0.52               1.0   \n",
      "39642               6               682             0.54               1.0   \n",
      "39643              10               157             0.70               1.0   \n",
      "\n",
      "                   ...               title_subjectivity  \\\n",
      "0                  ...                             0.50   \n",
      "1                  ...                             0.00   \n",
      "2                  ...                             0.00   \n",
      "3                  ...                             0.00   \n",
      "4                  ...                             0.45   \n",
      "5                  ...                             0.64   \n",
      "6                  ...                             0.00   \n",
      "7                  ...                             1.00   \n",
      "8                  ...                             0.12   \n",
      "9                  ...                             0.00   \n",
      "10                 ...                             0.00   \n",
      "11                 ...                             0.00   \n",
      "12                 ...                             1.00   \n",
      "13                 ...                             1.00   \n",
      "14                 ...                             0.75   \n",
      "15                 ...                             0.75   \n",
      "16                 ...                             0.57   \n",
      "17                 ...                             0.00   \n",
      "18                 ...                             0.86   \n",
      "19                 ...                             0.50   \n",
      "20                 ...                             0.00   \n",
      "21                 ...                             0.00   \n",
      "22                 ...                             0.00   \n",
      "23                 ...                             0.45   \n",
      "24                 ...                             0.70   \n",
      "25                 ...                             0.90   \n",
      "26                 ...                             0.00   \n",
      "27                 ...                             0.50   \n",
      "28                 ...                             0.00   \n",
      "29                 ...                             0.50   \n",
      "...                ...                              ...   \n",
      "39614              ...                             0.00   \n",
      "39615              ...                             0.45   \n",
      "39616              ...                             0.45   \n",
      "39617              ...                             0.45   \n",
      "39618              ...                             0.12   \n",
      "39619              ...                             0.00   \n",
      "39620              ...                             0.65   \n",
      "39621              ...                             0.00   \n",
      "39622              ...                             0.30   \n",
      "39623              ...                             0.85   \n",
      "39624              ...                             0.00   \n",
      "39625              ...                             0.80   \n",
      "39626              ...                             0.00   \n",
      "39627              ...                             0.58   \n",
      "39628              ...                             0.00   \n",
      "39629              ...                             1.00   \n",
      "39630              ...                             0.48   \n",
      "39631              ...                             1.00   \n",
      "39632              ...                             0.50   \n",
      "39633              ...                             0.00   \n",
      "39634              ...                             0.00   \n",
      "39635              ...                             0.10   \n",
      "39636              ...                             0.00   \n",
      "39637              ...                             0.78   \n",
      "39638              ...                             0.00   \n",
      "39639              ...                             0.10   \n",
      "39640              ...                             0.30   \n",
      "39641              ...                             0.45   \n",
      "39642              ...                             0.00   \n",
      "39643              ...                             0.33   \n",
      "\n",
      "       title_sentiment_polarity  abs_title_subjectivity  \\\n",
      "0                         -0.19                    0.00   \n",
      "1                          0.00                    0.50   \n",
      "2                          0.00                    0.50   \n",
      "3                          0.00                    0.50   \n",
      "4                          0.14                    0.05   \n",
      "5                          0.21                    0.14   \n",
      "6                          0.00                    0.50   \n",
      "7                          0.50                    0.50   \n",
      "8                          0.00                    0.38   \n",
      "9                          0.00                    0.50   \n",
      "10                         0.00                    0.50   \n",
      "11                         0.00                    0.50   \n",
      "12                        -1.00                    0.50   \n",
      "13                        -1.00                    0.50   \n",
      "14                         0.55                    0.25   \n",
      "15                        -0.25                    0.25   \n",
      "16                        -0.10                    0.07   \n",
      "17                         0.00                    0.50   \n",
      "18                        -0.71                    0.36   \n",
      "19                         0.00                    0.00   \n",
      "20                         0.00                    0.50   \n",
      "21                         0.00                    0.50   \n",
      "22                         0.00                    0.50   \n",
      "23                         0.40                    0.05   \n",
      "24                        -0.40                    0.20   \n",
      "25                         0.40                    0.40   \n",
      "26                         0.00                    0.50   \n",
      "27                         0.50                    0.00   \n",
      "28                         0.00                    0.50   \n",
      "29                         0.50                    0.00   \n",
      "...                         ...                     ...   \n",
      "39614                      0.00                    0.50   \n",
      "39615                      0.14                    0.05   \n",
      "39616                      0.14                    0.05   \n",
      "39617                      0.14                    0.05   \n",
      "39618                     -0.12                    0.38   \n",
      "39619                      0.00                    0.50   \n",
      "39620                      0.00                    0.15   \n",
      "39621                      0.00                    0.50   \n",
      "39622                      0.17                    0.20   \n",
      "39623                     -0.40                    0.35   \n",
      "39624                      0.00                    0.50   \n",
      "39625                      0.40                    0.30   \n",
      "39626                      0.00                    0.50   \n",
      "39627                     -0.13                    0.08   \n",
      "39628                      0.00                    0.50   \n",
      "39629                     -0.50                    0.50   \n",
      "39630                      0.17                    0.02   \n",
      "39631                     -1.00                    0.50   \n",
      "39632                      0.50                    0.00   \n",
      "39633                      0.00                    0.50   \n",
      "39634                      0.00                    0.50   \n",
      "39635                      0.00                    0.40   \n",
      "39636                      0.00                    0.50   \n",
      "39637                     -0.60                    0.28   \n",
      "39638                      0.00                    0.50   \n",
      "39639                      0.00                    0.40   \n",
      "39640                      1.00                    0.20   \n",
      "39641                      0.14                    0.05   \n",
      "39642                      0.00                    0.50   \n",
      "39643                      0.25                    0.17   \n",
      "\n",
      "       abs_title_sentiment_polarity  \n",
      "0                              0.19  \n",
      "1                              0.00  \n",
      "2                              0.00  \n",
      "3                              0.00  \n",
      "4                              0.14  \n",
      "5                              0.21  \n",
      "6                              0.00  \n",
      "7                              0.50  \n",
      "8                              0.00  \n",
      "9                              0.00  \n",
      "10                             0.00  \n",
      "11                             0.00  \n",
      "12                             1.00  \n",
      "13                             1.00  \n",
      "14                             0.55  \n",
      "15                             0.25  \n",
      "16                             0.10  \n",
      "17                             0.00  \n",
      "18                             0.71  \n",
      "19                             0.00  \n",
      "20                             0.00  \n",
      "21                             0.00  \n",
      "22                             0.00  \n",
      "23                             0.40  \n",
      "24                             0.40  \n",
      "25                             0.40  \n",
      "26                             0.00  \n",
      "27                             0.50  \n",
      "28                             0.00  \n",
      "29                             0.50  \n",
      "...                             ...  \n",
      "39614                          0.00  \n",
      "39615                          0.14  \n",
      "39616                          0.14  \n",
      "39617                          0.14  \n",
      "39618                          0.12  \n",
      "39619                          0.00  \n",
      "39620                          0.00  \n",
      "39621                          0.00  \n",
      "39622                          0.17  \n",
      "39623                          0.40  \n",
      "39624                          0.00  \n",
      "39625                          0.40  \n",
      "39626                          0.00  \n",
      "39627                          0.13  \n",
      "39628                          0.00  \n",
      "39629                          0.50  \n",
      "39630                          0.17  \n",
      "39631                          1.00  \n",
      "39632                          0.50  \n",
      "39633                          0.00  \n",
      "39634                          0.00  \n",
      "39635                          0.00  \n",
      "39636                          0.00  \n",
      "39637                          0.60  \n",
      "39638                          0.00  \n",
      "39639                          0.00  \n",
      "39640                          1.00  \n",
      "39641                          0.14  \n",
      "39642                          0.00  \n",
      "39643                          0.25  \n",
      "\n",
      "[39644 rows x 58 columns]\n"
     ]
    }
   ],
   "source": [
    "#removing the attributes url and timedelta which are non predictive variables\n",
    "dfr12 = df.iloc[:, 2:60]\n",
    "print(dfr12)"
   ]
  },
  {
   "cell_type": "code",
   "execution_count": 68,
   "metadata": {
    "collapsed": true,
    "scrolled": true
   },
   "outputs": [],
   "source": [
    "data=dfr12"
   ]
  },
  {
   "cell_type": "code",
   "execution_count": 69,
   "metadata": {
    "scrolled": true
   },
   "outputs": [
    {
     "data": {
      "text/html": [
       "<div>\n",
       "<style>\n",
       "    .dataframe thead tr:only-child th {\n",
       "        text-align: right;\n",
       "    }\n",
       "\n",
       "    .dataframe thead th {\n",
       "        text-align: left;\n",
       "    }\n",
       "\n",
       "    .dataframe tbody tr th {\n",
       "        vertical-align: top;\n",
       "    }\n",
       "</style>\n",
       "<table border=\"1\" class=\"dataframe\">\n",
       "  <thead>\n",
       "    <tr style=\"text-align: right;\">\n",
       "      <th></th>\n",
       "      <th>n_tokens_title</th>\n",
       "      <th>n_tokens_content</th>\n",
       "      <th>n_unique_tokens</th>\n",
       "      <th>n_non_stop_words</th>\n",
       "      <th>...</th>\n",
       "      <th>title_subjectivity</th>\n",
       "      <th>title_sentiment_polarity</th>\n",
       "      <th>abs_title_subjectivity</th>\n",
       "      <th>abs_title_sentiment_polarity</th>\n",
       "    </tr>\n",
       "  </thead>\n",
       "  <tbody>\n",
       "    <tr>\n",
       "      <th>0</th>\n",
       "      <td>12</td>\n",
       "      <td>219</td>\n",
       "      <td>0.66</td>\n",
       "      <td>1.0</td>\n",
       "      <td>...</td>\n",
       "      <td>0.50</td>\n",
       "      <td>-0.19</td>\n",
       "      <td>0.00</td>\n",
       "      <td>0.19</td>\n",
       "    </tr>\n",
       "    <tr>\n",
       "      <th>1</th>\n",
       "      <td>9</td>\n",
       "      <td>211</td>\n",
       "      <td>0.58</td>\n",
       "      <td>1.0</td>\n",
       "      <td>...</td>\n",
       "      <td>0.00</td>\n",
       "      <td>0.00</td>\n",
       "      <td>0.50</td>\n",
       "      <td>0.00</td>\n",
       "    </tr>\n",
       "    <tr>\n",
       "      <th>2</th>\n",
       "      <td>9</td>\n",
       "      <td>255</td>\n",
       "      <td>0.60</td>\n",
       "      <td>1.0</td>\n",
       "      <td>...</td>\n",
       "      <td>0.00</td>\n",
       "      <td>0.00</td>\n",
       "      <td>0.50</td>\n",
       "      <td>0.00</td>\n",
       "    </tr>\n",
       "    <tr>\n",
       "      <th>3</th>\n",
       "      <td>9</td>\n",
       "      <td>531</td>\n",
       "      <td>0.50</td>\n",
       "      <td>1.0</td>\n",
       "      <td>...</td>\n",
       "      <td>0.00</td>\n",
       "      <td>0.00</td>\n",
       "      <td>0.50</td>\n",
       "      <td>0.00</td>\n",
       "    </tr>\n",
       "    <tr>\n",
       "      <th>4</th>\n",
       "      <td>13</td>\n",
       "      <td>1072</td>\n",
       "      <td>0.42</td>\n",
       "      <td>1.0</td>\n",
       "      <td>...</td>\n",
       "      <td>0.45</td>\n",
       "      <td>0.14</td>\n",
       "      <td>0.05</td>\n",
       "      <td>0.14</td>\n",
       "    </tr>\n",
       "  </tbody>\n",
       "</table>\n",
       "<p>5 rows × 58 columns</p>\n",
       "</div>"
      ],
      "text/plain": [
       "   n_tokens_title  n_tokens_content  n_unique_tokens  n_non_stop_words  \\\n",
       "0              12               219             0.66               1.0   \n",
       "1               9               211             0.58               1.0   \n",
       "2               9               255             0.60               1.0   \n",
       "3               9               531             0.50               1.0   \n",
       "4              13              1072             0.42               1.0   \n",
       "\n",
       "               ...               title_subjectivity  title_sentiment_polarity  \\\n",
       "0              ...                             0.50                     -0.19   \n",
       "1              ...                             0.00                      0.00   \n",
       "2              ...                             0.00                      0.00   \n",
       "3              ...                             0.00                      0.00   \n",
       "4              ...                             0.45                      0.14   \n",
       "\n",
       "   abs_title_subjectivity  abs_title_sentiment_polarity  \n",
       "0                    0.00                          0.19  \n",
       "1                    0.50                          0.00  \n",
       "2                    0.50                          0.00  \n",
       "3                    0.50                          0.00  \n",
       "4                    0.05                          0.14  \n",
       "\n",
       "[5 rows x 58 columns]"
      ]
     },
     "execution_count": 69,
     "metadata": {},
     "output_type": "execute_result"
    }
   ],
   "source": [
    "data.head()"
   ]
  },
  {
   "cell_type": "code",
   "execution_count": 70,
   "metadata": {
    "collapsed": true,
    "scrolled": true
   },
   "outputs": [],
   "source": [
    "target=  df.iloc[:,61]"
   ]
  },
  {
   "cell_type": "code",
   "execution_count": 71,
   "metadata": {
    "scrolled": true
   },
   "outputs": [
    {
     "data": {
      "text/plain": [
       "0    Unpopular\n",
       "1      Popular\n",
       "2    Unpopular\n",
       "3    Unpopular\n",
       "4    Unpopular\n",
       "Name: split, dtype: object"
      ]
     },
     "execution_count": 71,
     "metadata": {},
     "output_type": "execute_result"
    }
   ],
   "source": [
    "target.head()"
   ]
  },
  {
   "cell_type": "code",
   "execution_count": 72,
   "metadata": {
    "scrolled": true
   },
   "outputs": [
    {
     "name": "stdout",
     "output_type": "stream",
     "text": [
      "0        Unpopular\n",
      "1          Popular\n",
      "2        Unpopular\n",
      "3        Unpopular\n",
      "4        Unpopular\n",
      "5        Unpopular\n",
      "6        Unpopular\n",
      "7        Unpopular\n",
      "8          Popular\n",
      "9        Unpopular\n",
      "10         Popular\n",
      "11         Popular\n",
      "12       Unpopular\n",
      "13         Popular\n",
      "14       Unpopular\n",
      "15         Popular\n",
      "16         Popular\n",
      "17         Popular\n",
      "18         Popular\n",
      "19         Popular\n",
      "20         Popular\n",
      "21       Unpopular\n",
      "22       Unpopular\n",
      "23         Popular\n",
      "24       Unpopular\n",
      "25       Unpopular\n",
      "26         Popular\n",
      "27         Popular\n",
      "28       Unpopular\n",
      "29       Unpopular\n",
      "           ...    \n",
      "39614      Popular\n",
      "39615      Popular\n",
      "39616      Popular\n",
      "39617    Unpopular\n",
      "39618      Popular\n",
      "39619    Unpopular\n",
      "39620      Popular\n",
      "39621      Popular\n",
      "39622      Popular\n",
      "39623    Unpopular\n",
      "39624      Popular\n",
      "39625      Popular\n",
      "39626    Unpopular\n",
      "39627    Unpopular\n",
      "39628    Unpopular\n",
      "39629      Popular\n",
      "39630      Popular\n",
      "39631    Unpopular\n",
      "39632      Popular\n",
      "39633      Popular\n",
      "39634    Unpopular\n",
      "39635    Unpopular\n",
      "39636      Popular\n",
      "39637      Popular\n",
      "39638    Unpopular\n",
      "39639      Popular\n",
      "39640      Popular\n",
      "39641      Popular\n",
      "39642    Unpopular\n",
      "39643    Unpopular\n",
      "Name: split, Length: 39644, dtype: object\n"
     ]
    }
   ],
   "source": [
    "print(target)"
   ]
  },
  {
   "cell_type": "code",
   "execution_count": 76,
   "metadata": {},
   "outputs": [
    {
     "name": "stdout",
     "output_type": "stream",
     "text": [
      "6661\n",
      "7390\n",
      "7435\n",
      "7267\n",
      "5701\n",
      "2453\n",
      "2737\n"
     ]
    },
    {
     "data": {
      "application/pdf": "[encoded data removed]",
      "image/png": "[encoded data removed]",
      "text/plain": [
       "<matplotlib.figure.Figure at 0x2204bcc4320>"
      ]
     },
     "metadata": {},
     "output_type": "display_data"
    }
   ],
   "source": [
    "#extracting weekdays\n",
    "#dataweekends=data.iloc[:, 29:36,61]\n",
    "#print(dataweekends)\n",
    "#dfw = dataweekends.groupby('weekday_is_monday')\n",
    "#print(dfw)\n",
    "#extracting no of shares\n",
    "\n",
    "#print(df.loc['weekday_is_monday'].sum())\n",
    "#df.loc[df[1],'weekday_is_monday'].sum()\n",
    " \n",
    "Total1 = df['weekday_is_monday'].sum()\n",
    "print (Total1)\n",
    "Total2 = df['weekday_is_tuesday'].sum()\n",
    "print (Total2)\n",
    "Total3 = df['weekday_is_wednesday'].sum()\n",
    "print (Total3)\n",
    "Total4 = df['weekday_is_thursday'].sum()\n",
    "print (Total4)\n",
    "Total5 = df['weekday_is_friday'].sum()\n",
    "print (Total5)\n",
    "Total6 = df['weekday_is_saturday'].sum()\n",
    "print (Total6)\n",
    "Total7 = df['weekday_is_sunday'].sum()\n",
    "print (Total7)\n",
    "\n",
    "y = [Total1, Total2, Total3, Total4, Total5, Total6, Total7]\n",
    "\n",
    " \n",
    "objects = ('Monday', 'Tuesday', 'Wednesday', 'Thursday', 'Friday', 'Saturday','Sunday')\n",
    "y_pos = np.arange(len(objects))\n",
    "\n",
    " \n",
    "plt.bar(y_pos, y, align='center', alpha=0.5)\n",
    "plt.xticks(y_pos, objects)\n",
    "plt.ylabel('Number of Shares')\n",
    "plt.title('Shares by Weekday')\n",
    "plt.savefig('fig1.png')"
   ]
  },
  {
   "cell_type": "code",
   "execution_count": null,
   "metadata": {
    "collapsed": true
   },
   "outputs": [],
   "source": []
  },
  {
   "cell_type": "code",
   "execution_count": 45,
   "metadata": {
    "scrolled": true
   },
   "outputs": [
    {
     "name": "stdout",
     "output_type": "stream",
     "text": [
      "Type of data: <class 'pandas.core.frame.DataFrame'>\n",
      "Type of data: <class 'pandas.core.frame.DataFrame'>\n",
      "Type of data: <class 'pandas.core.series.Series'>\n"
     ]
    }
   ],
   "source": [
    "print(\"Type of data: {}\".format(type(df)))\n",
    "print(\"Type of data: {}\".format(type(data)))\n",
    "print(\"Type of data: {}\".format(type(target)))"
   ]
  },
  {
   "cell_type": "code",
   "execution_count": 46,
   "metadata": {
    "collapsed": true,
    "scrolled": true
   },
   "outputs": [],
   "source": [
    "from sklearn.model_selection import train_test_split\n",
    "X_train, X_test, y_train, y_test = train_test_split(\n",
    "    data, target, random_state=0)"
   ]
  },
  {
   "cell_type": "code",
   "execution_count": 47,
   "metadata": {
    "scrolled": true
   },
   "outputs": [
    {
     "name": "stdout",
     "output_type": "stream",
     "text": [
      "X_train shape: (29733, 58)\n",
      "y_train shape: (29733,)\n"
     ]
    }
   ],
   "source": [
    "print(\"X_train shape: {}\".format(X_train.shape))\n",
    "print(\"y_train shape: {}\".format(y_train.shape))"
   ]
  },
  {
   "cell_type": "code",
   "execution_count": 48,
   "metadata": {
    "scrolled": true
   },
   "outputs": [
    {
     "name": "stdout",
     "output_type": "stream",
     "text": [
      "X_test shape: (9911, 58)\n",
      "y_test shape: (9911,)\n"
     ]
    }
   ],
   "source": [
    "print(\"X_test shape: {}\".format(X_test.shape))\n",
    "print(\"y_test shape: {}\".format(y_test.shape))"
   ]
  },
  {
   "cell_type": "code",
   "execution_count": 78,
   "metadata": {},
   "outputs": [
    {
     "name": "stdout",
     "output_type": "stream",
     "text": [
      "2099\n",
      "7057\n",
      "6258\n",
      "2323\n",
      "7346\n",
      "8427\n"
     ]
    },
    {
     "data": {
      "application/pdf": "[encoded data removed]",
      "image/png": "[encoded data removed]",
      "text/plain": [
       "<matplotlib.figure.Figure at 0x2204cc34048>"
      ]
     },
     "metadata": {},
     "output_type": "display_data"
    }
   ],
   "source": [
    "#extracting weekdays\n",
    "#dataweekends=data.iloc[:, 29:36,61]\n",
    "#print(dataweekends)\n",
    "#dfw = dataweekends.groupby('weekday_is_monday')\n",
    "#print(dfw)\n",
    "#extracting no of shares\n",
    "\n",
    "#print(df.loc['weekday_is_monday'].sum())\n",
    "#df.loc[df[1],'weekday_is_monday'].sum()\n",
    " \n",
    "Total1 = df['data_channel_is_lifestyle'].sum()\n",
    "print (Total1)\n",
    "Total2 = df['data_channel_is_entertainment'].sum()\n",
    "print (Total2)\n",
    "Total3 = df['data_channel_is_bus'].sum()\n",
    "print (Total3)\n",
    "Total4 = df['data_channel_is_socmed'].sum()\n",
    "print (Total4)\n",
    "Total5 = df['data_channel_is_tech'].sum()\n",
    "print (Total5)\n",
    "Total6 = df['data_channel_is_world'].sum()\n",
    "print (Total6)\n",
    "\n",
    "\n",
    "y = [Total6, Total5, Total2, Total3, Total4, Total1]\n",
    "\n",
    " \n",
    "objects = ('World','Tech','Entertainment', 'Business', 'Social Media','Lifestyle')\n",
    "y_pos = np.arange(len(objects))\n",
    "\n",
    " \n",
    "plt.bar(y_pos, y, align='center', alpha=0.5)\n",
    "plt.xticks(y_pos, objects)\n",
    "plt.ylabel('Number of Shares')\n",
    "plt.title('Shares by Categories')\n",
    " \n",
    "plt.savefig('fig1.png')\n",
    "\n",
    "\n",
    "  "
   ]
  },
  {
   "cell_type": "code",
   "execution_count": 50,
   "metadata": {
    "collapsed": true
   },
   "outputs": [],
   "source": [
    "plt.style.use('seaborn-white')"
   ]
  },
  {
   "cell_type": "code",
   "execution_count": 102,
   "metadata": {},
   "outputs": [
    {
     "name": "stdout",
     "output_type": "stream",
     "text": [
      "                                                     url  timedelta  \\\n",
      "0      http://mashable.com/2013/01/07/amazon-instant-...        731   \n",
      "1      http://mashable.com/2013/01/07/apple-40-billio...        731   \n",
      "2      http://mashable.com/2013/01/07/ap-samsung-spon...        731   \n",
      "3      http://mashable.com/2013/01/07/astronaut-notre...        731   \n",
      "4       http://mashable.com/2013/01/07/att-u-verse-apps/        731   \n",
      "5       http://mashable.com/2013/01/07/beewi-smart-toys/        731   \n",
      "6      http://mashable.com/2013/01/07/bodymedia-armba...        731   \n",
      "7       http://mashable.com/2013/01/07/canon-poweshot-n/        731   \n",
      "8      http://mashable.com/2013/01/07/car-of-the-futu...        731   \n",
      "9      http://mashable.com/2013/01/07/chuck-hagel-web...        731   \n",
      "10     http://mashable.com/2013/01/07/cosmic-events-d...        731   \n",
      "11      http://mashable.com/2013/01/07/crayon-creatures/        731   \n",
      "12         http://mashable.com/2013/01/07/creature-cups/        731   \n",
      "13             http://mashable.com/2013/01/07/dad-jokes/        731   \n",
      "14     http://mashable.com/2013/01/07/downton-abbey-t...        731   \n",
      "15     http://mashable.com/2013/01/07/earth-size-plan...        731   \n",
      "16             http://mashable.com/2013/01/07/echo-game/        731   \n",
      "17     http://mashable.com/2013/01/07/entrepreneur-tr...        731   \n",
      "18     http://mashable.com/2013/01/07/facebook-sick-app/        731   \n",
      "19     http://mashable.com/2013/01/07/felt-audio-puls...        731   \n",
      "20          http://mashable.com/2013/01/07/ford-glympse/        731   \n",
      "21      http://mashable.com/2013/01/07/ftc-google-leaks/        731   \n",
      "22     http://mashable.com/2013/01/07/fujifilm-50x-su...        731   \n",
      "23     http://mashable.com/2013/01/07/hillary-clinton...        731   \n",
      "24                http://mashable.com/2013/01/07/htc-q1/        731   \n",
      "25     http://mashable.com/2013/01/07/huawei-ascend-m...        731   \n",
      "26     http://mashable.com/2013/01/07/iheartradio-app...        731   \n",
      "27     http://mashable.com/2013/01/07/intel-awesome-l...        731   \n",
      "28     http://mashable.com/2013/01/07/isp02-iphone-ta...        731   \n",
      "29        http://mashable.com/2013/01/07/jobs-contently/        731   \n",
      "...                                                  ...        ...   \n",
      "39614  http://mashable.com/2014/12/26/the-interview-i...          9   \n",
      "39615  http://mashable.com/2014/12/26/toothpaste-fluo...          9   \n",
      "39616  http://mashable.com/2014/12/26/top-photography...          9   \n",
      "39617  http://mashable.com/2014/12/26/tor-attacked-li...          9   \n",
      "39618  http://mashable.com/2014/12/26/tsa-gift-wrap-r...          9   \n",
      "39619  http://mashable.com/2014/12/26/tsunami-10-year...          9   \n",
      "39620  http://mashable.com/2014/12/26/turkey-teen-ins...          9   \n",
      "39621  http://mashable.com/2014/12/26/ukraine-prisone...          9   \n",
      "39622  http://mashable.com/2014/12/26/wacky-kickstart...          9   \n",
      "39623        http://mashable.com/2014/12/26/what-is-tor/          9   \n",
      "39624  http://mashable.com/2014/12/27/air-asia-flight...          9   \n",
      "39625  http://mashable.com/2014/12/27/als-ice-bucket-...          9   \n",
      "39626  http://mashable.com/2014/12/27/christmas-tree-...          9   \n",
      "39627  http://mashable.com/2014/12/27/extremist-leade...          9   \n",
      "39628  http://mashable.com/2014/12/27/facebook-year-i...          9   \n",
      "39629  http://mashable.com/2014/12/27/frozen-doll-prank/          9   \n",
      "39630  http://mashable.com/2014/12/27/high-school-i-c...          9   \n",
      "39631  http://mashable.com/2014/12/27/japan-elderly-d...          9   \n",
      "39632  http://mashable.com/2014/12/27/las-vegas-new-y...          9   \n",
      "39633  http://mashable.com/2014/12/27/lbj-adviser-sla...          9   \n",
      "39634  http://mashable.com/2014/12/27/music-grid-outf...          9   \n",
      "39635   http://mashable.com/2014/12/27/nike-marc-newson/          9   \n",
      "39636  http://mashable.com/2014/12/27/north-korea-int...          8   \n",
      "39637  http://mashable.com/2014/12/27/nypd-rafael-ram...          8   \n",
      "39638  http://mashable.com/2014/12/27/protests-contin...          8   \n",
      "39639  http://mashable.com/2014/12/27/samsung-app-aut...          8   \n",
      "39640  http://mashable.com/2014/12/27/seth-rogen-jame...          8   \n",
      "39641  http://mashable.com/2014/12/27/son-pays-off-mo...          8   \n",
      "39642     http://mashable.com/2014/12/27/ukraine-blasts/          8   \n",
      "39643  http://mashable.com/2014/12/27/youtube-channel...          8   \n",
      "\n",
      "       n_tokens_title  n_tokens_content    ...      abs_title_subjectivity  \\\n",
      "0                  12               219    ...                        0.00   \n",
      "1                   9               211    ...                        0.50   \n",
      "2                   9               255    ...                        0.50   \n",
      "3                   9               531    ...                        0.50   \n",
      "4                  13              1072    ...                        0.05   \n",
      "5                  10               370    ...                        0.14   \n",
      "6                   8               960    ...                        0.50   \n",
      "7                  12               989    ...                        0.50   \n",
      "8                  11                97    ...                        0.38   \n",
      "9                  10               231    ...                        0.50   \n",
      "10                  9              1248    ...                        0.50   \n",
      "11                 10               187    ...                        0.50   \n",
      "12                  9               274    ...                        0.50   \n",
      "13                  9               285    ...                        0.50   \n",
      "14                  8               259    ...                        0.25   \n",
      "15                 12               682    ...                        0.25   \n",
      "16                  8              1118    ...                        0.07   \n",
      "17                  8               397    ...                        0.50   \n",
      "18                 11               103    ...                        0.36   \n",
      "19                  8              1207    ...                        0.00   \n",
      "20                 13              1248    ...                        0.50   \n",
      "21                  9               391    ...                        0.50   \n",
      "22                 11              1154    ...                        0.50   \n",
      "23                 11               125    ...                        0.05   \n",
      "24                 13               244    ...                        0.20   \n",
      "25                  8               266    ...                        0.40   \n",
      "26                  8               331    ...                        0.50   \n",
      "27                 12              1225    ...                        0.00   \n",
      "28                 10               243    ...                        0.50   \n",
      "29                 11               723    ...                        0.00   \n",
      "...               ...               ...    ...                         ...   \n",
      "39614               9               904    ...                        0.50   \n",
      "39615              11                 0    ...                        0.05   \n",
      "39616              15                 0    ...                        0.05   \n",
      "39617              11               991    ...                        0.05   \n",
      "39618              14               488    ...                        0.38   \n",
      "39619              14               428    ...                        0.50   \n",
      "39620              13               413    ...                        0.15   \n",
      "39621               9               468    ...                        0.50   \n",
      "39622              11              1122    ...                        0.20   \n",
      "39623              14               436    ...                        0.35   \n",
      "39624              12               429    ...                        0.50   \n",
      "39625              13               224    ...                        0.30   \n",
      "39626              12               249    ...                        0.50   \n",
      "39627              14               874    ...                        0.08   \n",
      "39628              14               626    ...                        0.50   \n",
      "39629              13               209    ...                        0.50   \n",
      "39630              12               491    ...                        0.02   \n",
      "39631              13               746    ...                        0.50   \n",
      "39632              15               580    ...                        0.00   \n",
      "39633               9               614    ...                        0.50   \n",
      "39634               9               251    ...                        0.50   \n",
      "39635              13               478    ...                        0.40   \n",
      "39636               8              2509    ...                        0.50   \n",
      "39637              13              1629    ...                        0.28   \n",
      "39638              11               223    ...                        0.50   \n",
      "39639              11               346    ...                        0.40   \n",
      "39640              12               328    ...                        0.20   \n",
      "39641              10               442    ...                        0.05   \n",
      "39642               6               682    ...                        0.50   \n",
      "39643              10               157    ...                        0.17   \n",
      "\n",
      "       abs_title_sentiment_polarity  shares      split  \n",
      "0                              0.19     593  Unpopular  \n",
      "1                              0.00    1500    Popular  \n",
      "2                              0.00     711  Unpopular  \n",
      "3                              0.00    1200  Unpopular  \n",
      "4                              0.14     505  Unpopular  \n",
      "5                              0.21     855  Unpopular  \n",
      "6                              0.00     556  Unpopular  \n",
      "7                              0.50     891  Unpopular  \n",
      "8                              0.00    3600    Popular  \n",
      "9                              0.00     710  Unpopular  \n",
      "10                             0.00    2200    Popular  \n",
      "11                             0.00    1900    Popular  \n",
      "12                             1.00     823  Unpopular  \n",
      "13                             1.00   10000    Popular  \n",
      "14                             0.55     761  Unpopular  \n",
      "15                             0.25    1600    Popular  \n",
      "16                             0.10   13600    Popular  \n",
      "17                             0.00    3100    Popular  \n",
      "18                             0.71    5700    Popular  \n",
      "19                             0.00   17100    Popular  \n",
      "20                             0.00    2800    Popular  \n",
      "21                             0.00     598  Unpopular  \n",
      "22                             0.00     445  Unpopular  \n",
      "23                             0.40    1500    Popular  \n",
      "24                             0.40     852  Unpopular  \n",
      "25                             0.40     783  Unpopular  \n",
      "26                             0.00    1500    Popular  \n",
      "27                             0.50    1800    Popular  \n",
      "28                             0.00     462  Unpopular  \n",
      "29                             0.50     425  Unpopular  \n",
      "...                             ...     ...        ...  \n",
      "39614                          0.00    1400    Popular  \n",
      "39615                          0.14    5700    Popular  \n",
      "39616                          0.14    2100    Popular  \n",
      "39617                          0.14     691  Unpopular  \n",
      "39618                          0.12    1400    Popular  \n",
      "39619                          0.00    1200  Unpopular  \n",
      "39620                          0.00    2400    Popular  \n",
      "39621                          0.00   24300    Popular  \n",
      "39622                          0.17    2900    Popular  \n",
      "39623                          0.40     947  Unpopular  \n",
      "39624                          0.00    3200    Popular  \n",
      "39625                          0.40    1400    Popular  \n",
      "39626                          0.00    1100  Unpopular  \n",
      "39627                          0.13    1200  Unpopular  \n",
      "39628                          0.00    1000  Unpopular  \n",
      "39629                          0.50    2400    Popular  \n",
      "39630                          0.17    1500    Popular  \n",
      "39631                          1.00     914  Unpopular  \n",
      "39632                          0.50    1700    Popular  \n",
      "39633                          0.00    1500    Popular  \n",
      "39634                          0.00    1000  Unpopular  \n",
      "39635                          0.00    1300  Unpopular  \n",
      "39636                          0.00    1700    Popular  \n",
      "39637                          0.60    1400    Popular  \n",
      "39638                          0.00    1200  Unpopular  \n",
      "39639                          0.00    1800    Popular  \n",
      "39640                          1.00    1900    Popular  \n",
      "39641                          0.14    1900    Popular  \n",
      "39642                          0.00    1100  Unpopular  \n",
      "39643                          0.25    1300  Unpopular  \n",
      "\n",
      "[39355 rows x 62 columns]\n"
     ]
    },
    {
     "data": {
      "text/plain": [
       "(39355, 62)"
      ]
     },
     "execution_count": 102,
     "metadata": {},
     "output_type": "execute_result"
    }
   ],
   "source": [
    "d=df[df['shares'] < 40000]\n",
    "print(d)\n",
    "d.shape"
   ]
  },
  {
   "cell_type": "code",
   "execution_count": 103,
   "metadata": {},
   "outputs": [
    {
     "data": {
      "text/plain": [
       "(array([ 32984.,   3735.,   1202.,    549.,    348.,    204.,    152.,\n",
       "            76.,     58.,     47.]),\n",
       " array([     1. ,   3990.9,   7980.8,  11970.7,  15960.6,  19950.5,\n",
       "         23940.4,  27930.3,  31920.2,  35910.1,  39900. ]),\n",
       " <a list of 10 Patch objects>)"
      ]
     },
     "execution_count": 103,
     "metadata": {},
     "output_type": "execute_result"
    },
    {
     "data": {
      "application/pdf": "[encoded data removed]",
      "image/png": "[encoded data removed]",
      "text/plain": [
       "<matplotlib.figure.Figure at 0x22053169080>"
      ]
     },
     "metadata": {},
     "output_type": "display_data"
    }
   ],
   "source": [
    "plt.hist(d['shares'])\n",
    "\n"
   ]
  },
  {
   "cell_type": "code",
   "execution_count": 104,
   "metadata": {},
   "outputs": [
    {
     "data": {
      "application/pdf": "[encoded data removed]",
      "image/png": "[encoded data removed]",
      "text/plain": [
       "<matplotlib.figure.Figure at 0x220531c3780>"
      ]
     },
     "metadata": {},
     "output_type": "display_data"
    }
   ],
   "source": [
    " plt.hist(d['shares'], bins=100, normed=True, alpha=0.5,\n",
    "                histtype='stepfilled',\n",
    "                edgecolor='none');"
   ]
  },
  {
   "cell_type": "code",
   "execution_count": 110,
   "metadata": {},
   "outputs": [
    {
     "name": "stderr",
     "output_type": "stream",
     "text": [
      "C:\\Users\\Kapila\\Anaconda3\\lib\\site-packages\\matplotlib\\cbook.py:136: MatplotlibDeprecationWarning:\n",
      "\n",
      "The axisbg attribute was deprecated in version 2.0. Use facecolor instead.\n",
      "\n"
     ]
    },
    {
     "data": {
      "application/pdf": "[encoded data removed]",
      "image/png": "[encoded data removed]",
      "text/plain": [
       "<matplotlib.figure.Figure at 0x2204f313d30>"
      ]
     },
     "metadata": {},
     "output_type": "display_data"
    }
   ],
   "source": [
    "ax = plt.axes(axisbg='#E6E6E6')\n",
    "ax.set_axisbelow(True)\n",
    "\n",
    "       # draw solid white grid lines\n",
    "plt.grid(color='w', linestyle='solid')\n",
    "\n",
    "       # hide axis spines\n",
    "for spine in ax.spines.values():\n",
    "    spine.set_visible(False)\n",
    "\n",
    "       # hide top and right ticks\n",
    "ax.xaxis.tick_bottom()\n",
    "ax.yaxis.tick_left()\n",
    "\n",
    "       # lighten ticks and labels\n",
    "ax.tick_params(colors='gray', direction='out')\n",
    "for tick in ax.get_xticklabels():\n",
    "    tick.set_color('gray')\n",
    "for tick in ax.get_yticklabels():\n",
    "    tick.set_color('gray')\n",
    "    # control face and edge color of histogram\n",
    "ax.hist(d['shares'],  bins=60, normed=True, alpha=0.5,\n",
    "                histtype='stepfilled',\n",
    "                 edgecolor='#E6E6E6', color='#EE6666');"
   ]
  },
  {
   "cell_type": "code",
   "execution_count": 111,
   "metadata": {},
   "outputs": [
    {
     "data": {
      "application/pdf": "[encoded data removed]",
      "image/png": "[encoded data removed]",
      "text/plain": [
       "<matplotlib.figure.Figure at 0x22052da2978>"
      ]
     },
     "metadata": {},
     "output_type": "display_data"
    }
   ],
   "source": [
    "d['shares'].hist(bins=60)\n",
    "plt.savefig('fig1.png')"
   ]
  },
  {
   "cell_type": "code",
   "execution_count": 107,
   "metadata": {},
   "outputs": [
    {
     "data": {
      "text/plain": [
       "<matplotlib.axes._subplots.AxesSubplot at 0x220534db470>"
      ]
     },
     "execution_count": 107,
     "metadata": {},
     "output_type": "execute_result"
    },
    {
     "data": {
      "application/pdf": "[encoded data removed]",
      "image/png": "[encoded data removed]",
      "text/plain": [
       "<matplotlib.figure.Figure at 0x2205348dc18>"
      ]
     },
     "metadata": {},
     "output_type": "display_data"
    }
   ],
   "source": [
    "d.boxplot(column='shares')"
   ]
  },
  {
   "cell_type": "code",
   "execution_count": 108,
   "metadata": {},
   "outputs": [
    {
     "data": {
      "text/plain": [
       "['url',\n",
       " 'timedelta',\n",
       " 'n_tokens_title',\n",
       " 'n_tokens_content',\n",
       " 'n_unique_tokens',\n",
       " 'n_non_stop_words',\n",
       " 'n_non_stop_unique_tokens',\n",
       " 'num_hrefs',\n",
       " 'num_self_hrefs',\n",
       " 'num_imgs',\n",
       " 'num_videos',\n",
       " 'average_token_length',\n",
       " 'num_keywords',\n",
       " 'data_channel_is_lifestyle',\n",
       " 'data_channel_is_entertainment',\n",
       " 'data_channel_is_bus',\n",
       " 'data_channel_is_socmed',\n",
       " 'data_channel_is_tech',\n",
       " 'data_channel_is_world',\n",
       " 'kw_min_min',\n",
       " 'kw_max_min',\n",
       " 'kw_avg_min',\n",
       " 'kw_min_max',\n",
       " 'kw_max_max',\n",
       " 'kw_avg_max',\n",
       " 'kw_min_avg',\n",
       " 'kw_max_avg',\n",
       " 'kw_avg_avg',\n",
       " 'self_reference_min_shares',\n",
       " 'self_reference_max_shares',\n",
       " 'self_reference_avg_sharess',\n",
       " 'weekday_is_monday',\n",
       " 'weekday_is_tuesday',\n",
       " 'weekday_is_wednesday',\n",
       " 'weekday_is_thursday',\n",
       " 'weekday_is_friday',\n",
       " 'weekday_is_saturday',\n",
       " 'weekday_is_sunday',\n",
       " 'is_weekend',\n",
       " 'LDA_00',\n",
       " 'LDA_01',\n",
       " 'LDA_02',\n",
       " 'LDA_03',\n",
       " 'LDA_04',\n",
       " 'global_subjectivity',\n",
       " 'global_sentiment_polarity',\n",
       " 'global_rate_positive_words',\n",
       " 'global_rate_negative_words',\n",
       " 'rate_positive_words',\n",
       " 'rate_negative_words',\n",
       " 'avg_positive_polarity',\n",
       " 'min_positive_polarity',\n",
       " 'max_positive_polarity',\n",
       " 'avg_negative_polarity',\n",
       " 'min_negative_polarity',\n",
       " 'max_negative_polarity',\n",
       " 'title_subjectivity',\n",
       " 'title_sentiment_polarity',\n",
       " 'abs_title_subjectivity',\n",
       " 'abs_title_sentiment_polarity',\n",
       " 'shares',\n",
       " 'split']"
      ]
     },
     "execution_count": 108,
     "metadata": {},
     "output_type": "execute_result"
    }
   ],
   "source": [
    "d.columns.tolist()"
   ]
  },
  {
   "cell_type": "code",
   "execution_count": 87,
   "metadata": {},
   "outputs": [
    {
     "data": {
      "application/pdf": "[encoded data removed]",
      "image/png": "[encoded data removed]",
      "text/plain": [
       "<matplotlib.figure.Figure at 0x2204d8785c0>"
      ]
     },
     "metadata": {},
     "output_type": "display_data"
    }
   ],
   "source": [
    "import seaborn as sns\n",
    "sns.countplot(df['split'],label=\"Count of number of shares\")\n",
    "plt.savefig('fig1.png')"
   ]
  },
  {
   "cell_type": "code",
   "execution_count": null,
   "metadata": {
    "collapsed": true
   },
   "outputs": [],
   "source": []
  },
  {
   "cell_type": "code",
   "execution_count": null,
   "metadata": {
    "collapsed": true
   },
   "outputs": [],
   "source": []
  }
 ],
 "metadata": {
  "kernelspec": {
   "display_name": "Python 3",
   "language": "python",
   "name": "python3"
  },
  "language_info": {
   "codemirror_mode": {
    "name": "ipython",
    "version": 3
   },
   "file_extension": ".py",
   "mimetype": "text/x-python",
   "name": "python",
   "nbconvert_exporter": "python",
   "pygments_lexer": "ipython3",
   "version": "3.6.1"
  }
 },
 "nbformat": 4,
 "nbformat_minor": 2
}
