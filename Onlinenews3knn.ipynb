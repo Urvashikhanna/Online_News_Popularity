{
 "cells": [
  {
   "cell_type": "code",
   "execution_count": 1,
   "metadata": {
    "collapsed": true,
    "scrolled": true
   },
   "outputs": [],
   "source": [
    "from sklearn.model_selection import train_test_split\n",
    "from preamble import *\n",
    "%matplotlib inline\n",
    "from IPython.display import display\n",
    "import pandas as pd\n",
    "import numpy as np\n",
    "import matplotlib as plt\n",
    "import mglearn\n",
    "from scipy import sparse\n",
    "import seaborn as sns\n",
    "import matplotlib.pyplot as plt\n",
    "from sklearn.decomposition import PCA\n",
    "from sklearn.decomposition import RandomizedPCA"
   ]
  },
  {
   "cell_type": "code",
   "execution_count": 2,
   "metadata": {
    "scrolled": true
   },
   "outputs": [
    {
     "data": {
      "text/plain": [
       "0        Unpopular\n",
       "1          Popular\n",
       "2        Unpopular\n",
       "3        Unpopular\n",
       "4        Unpopular\n",
       "5        Unpopular\n",
       "6        Unpopular\n",
       "7        Unpopular\n",
       "8          Popular\n",
       "9        Unpopular\n",
       "10         Popular\n",
       "11         Popular\n",
       "12       Unpopular\n",
       "13         Popular\n",
       "14       Unpopular\n",
       "15         Popular\n",
       "16         Popular\n",
       "17         Popular\n",
       "18         Popular\n",
       "19         Popular\n",
       "20         Popular\n",
       "21       Unpopular\n",
       "22       Unpopular\n",
       "23         Popular\n",
       "24       Unpopular\n",
       "25       Unpopular\n",
       "26         Popular\n",
       "27         Popular\n",
       "28       Unpopular\n",
       "29       Unpopular\n",
       "           ...    \n",
       "39614    Unpopular\n",
       "39615      Popular\n",
       "39616      Popular\n",
       "39617    Unpopular\n",
       "39618    Unpopular\n",
       "39619    Unpopular\n",
       "39620      Popular\n",
       "39621      Popular\n",
       "39622      Popular\n",
       "39623    Unpopular\n",
       "39624      Popular\n",
       "39625    Unpopular\n",
       "39626    Unpopular\n",
       "39627    Unpopular\n",
       "39628    Unpopular\n",
       "39629      Popular\n",
       "39630      Popular\n",
       "39631    Unpopular\n",
       "39632      Popular\n",
       "39633      Popular\n",
       "39634    Unpopular\n",
       "39635    Unpopular\n",
       "39636      Popular\n",
       "39637    Unpopular\n",
       "39638    Unpopular\n",
       "39639      Popular\n",
       "39640      Popular\n",
       "39641      Popular\n",
       "39642    Unpopular\n",
       "39643    Unpopular\n",
       "Name: split, Length: 39644, dtype: object"
      ]
     },
     "execution_count": 2,
     "metadata": {},
     "output_type": "execute_result"
    }
   ],
   "source": [
    "\n",
    "\n",
    "df = pd.read_csv(\"C:/Users/Kapila/Desktop/Macquarie coursework/COMP777 Computing Methods of Research/Final Project/Dataset/OnlineNewsPopularity/OnlineNewsPopularity.csv\") #Reading the dataset in a dataframe using Pandas\n",
    "\n",
    "df.loc[df['shares'] <= 1400, 'split'] = 'Unpopular'\n",
    "df.loc[df['shares'] > 1400, 'split'] = 'Popular'\n",
    "\n",
    "df['split']"
   ]
  },
  {
   "cell_type": "code",
   "execution_count": 3,
   "metadata": {
    "scrolled": true
   },
   "outputs": [
    {
     "data": {
      "text/plain": [
       "(39644, 62)"
      ]
     },
     "execution_count": 3,
     "metadata": {},
     "output_type": "execute_result"
    }
   ],
   "source": [
    "df.shape"
   ]
  },
  {
   "cell_type": "code",
   "execution_count": 4,
   "metadata": {},
   "outputs": [
    {
     "name": "stdout",
     "output_type": "stream",
     "text": [
      "       n_tokens_title  n_tokens_content  n_unique_tokens  n_non_stop_words  \\\n",
      "0                  12               219             0.66               1.0   \n",
      "1                   9               211             0.58               1.0   \n",
      "2                   9               255             0.60               1.0   \n",
      "3                   9               531             0.50               1.0   \n",
      "4                  13              1072             0.42               1.0   \n",
      "5                  10               370             0.56               1.0   \n",
      "6                   8               960             0.42               1.0   \n",
      "7                  12               989             0.43               1.0   \n",
      "8                  11                97             0.67               1.0   \n",
      "9                  10               231             0.64               1.0   \n",
      "10                  9              1248             0.49               1.0   \n",
      "11                 10               187             0.67               1.0   \n",
      "12                  9               274             0.61               1.0   \n",
      "13                  9               285             0.74               1.0   \n",
      "14                  8               259             0.56               1.0   \n",
      "15                 12               682             0.46               1.0   \n",
      "16                  8              1118             0.51               1.0   \n",
      "17                  8               397             0.62               1.0   \n",
      "18                 11               103             0.69               1.0   \n",
      "19                  8              1207             0.41               1.0   \n",
      "20                 13              1248             0.39               1.0   \n",
      "21                  9               391             0.51               1.0   \n",
      "22                 11              1154             0.43               1.0   \n",
      "23                 11               125             0.67               1.0   \n",
      "24                 13               244             0.56               1.0   \n",
      "25                  8               266             0.57               1.0   \n",
      "26                  8               331             0.56               1.0   \n",
      "27                 12              1225             0.39               1.0   \n",
      "28                 10               243             0.62               1.0   \n",
      "29                 11               723             0.49               1.0   \n",
      "...               ...               ...              ...               ...   \n",
      "39614               9               904             0.47               1.0   \n",
      "39615              11                 0             0.00               0.0   \n",
      "39616              15                 0             0.00               0.0   \n",
      "39617              11               991             0.46               1.0   \n",
      "39618              14               488             0.52               1.0   \n",
      "39619              14               428             0.51               1.0   \n",
      "39620              13               413             0.56               1.0   \n",
      "39621               9               468             0.58               1.0   \n",
      "39622              11              1122             0.44               1.0   \n",
      "39623              14               436             0.53               1.0   \n",
      "39624              12               429             0.51               1.0   \n",
      "39625              13               224             0.57               1.0   \n",
      "39626              12               249             0.57               1.0   \n",
      "39627              14               874             0.48               1.0   \n",
      "39628              14               626             0.55               1.0   \n",
      "39629              13               209             0.66               1.0   \n",
      "39630              12               491             0.45               1.0   \n",
      "39631              13               746             0.47               1.0   \n",
      "39632              15               580             0.51               1.0   \n",
      "39633               9               614             0.48               1.0   \n",
      "39634               9               251             0.67               1.0   \n",
      "39635              13               478             0.51               1.0   \n",
      "39636               8              2509             0.35               1.0   \n",
      "39637              13              1629             0.43               1.0   \n",
      "39638              11               223             0.65               1.0   \n",
      "39639              11               346             0.53               1.0   \n",
      "39640              12               328             0.70               1.0   \n",
      "39641              10               442             0.52               1.0   \n",
      "39642               6               682             0.54               1.0   \n",
      "39643              10               157             0.70               1.0   \n",
      "\n",
      "                   ...               title_subjectivity  \\\n",
      "0                  ...                             0.50   \n",
      "1                  ...                             0.00   \n",
      "2                  ...                             0.00   \n",
      "3                  ...                             0.00   \n",
      "4                  ...                             0.45   \n",
      "5                  ...                             0.64   \n",
      "6                  ...                             0.00   \n",
      "7                  ...                             1.00   \n",
      "8                  ...                             0.12   \n",
      "9                  ...                             0.00   \n",
      "10                 ...                             0.00   \n",
      "11                 ...                             0.00   \n",
      "12                 ...                             1.00   \n",
      "13                 ...                             1.00   \n",
      "14                 ...                             0.75   \n",
      "15                 ...                             0.75   \n",
      "16                 ...                             0.57   \n",
      "17                 ...                             0.00   \n",
      "18                 ...                             0.86   \n",
      "19                 ...                             0.50   \n",
      "20                 ...                             0.00   \n",
      "21                 ...                             0.00   \n",
      "22                 ...                             0.00   \n",
      "23                 ...                             0.45   \n",
      "24                 ...                             0.70   \n",
      "25                 ...                             0.90   \n",
      "26                 ...                             0.00   \n",
      "27                 ...                             0.50   \n",
      "28                 ...                             0.00   \n",
      "29                 ...                             0.50   \n",
      "...                ...                              ...   \n",
      "39614              ...                             0.00   \n",
      "39615              ...                             0.45   \n",
      "39616              ...                             0.45   \n",
      "39617              ...                             0.45   \n",
      "39618              ...                             0.12   \n",
      "39619              ...                             0.00   \n",
      "39620              ...                             0.65   \n",
      "39621              ...                             0.00   \n",
      "39622              ...                             0.30   \n",
      "39623              ...                             0.85   \n",
      "39624              ...                             0.00   \n",
      "39625              ...                             0.80   \n",
      "39626              ...                             0.00   \n",
      "39627              ...                             0.58   \n",
      "39628              ...                             0.00   \n",
      "39629              ...                             1.00   \n",
      "39630              ...                             0.48   \n",
      "39631              ...                             1.00   \n",
      "39632              ...                             0.50   \n",
      "39633              ...                             0.00   \n",
      "39634              ...                             0.00   \n",
      "39635              ...                             0.10   \n",
      "39636              ...                             0.00   \n",
      "39637              ...                             0.78   \n",
      "39638              ...                             0.00   \n",
      "39639              ...                             0.10   \n",
      "39640              ...                             0.30   \n",
      "39641              ...                             0.45   \n",
      "39642              ...                             0.00   \n",
      "39643              ...                             0.33   \n",
      "\n",
      "       title_sentiment_polarity  abs_title_subjectivity  \\\n",
      "0                         -0.19                    0.00   \n",
      "1                          0.00                    0.50   \n",
      "2                          0.00                    0.50   \n",
      "3                          0.00                    0.50   \n",
      "4                          0.14                    0.05   \n",
      "5                          0.21                    0.14   \n",
      "6                          0.00                    0.50   \n",
      "7                          0.50                    0.50   \n",
      "8                          0.00                    0.38   \n",
      "9                          0.00                    0.50   \n",
      "10                         0.00                    0.50   \n",
      "11                         0.00                    0.50   \n",
      "12                        -1.00                    0.50   \n",
      "13                        -1.00                    0.50   \n",
      "14                         0.55                    0.25   \n",
      "15                        -0.25                    0.25   \n",
      "16                        -0.10                    0.07   \n",
      "17                         0.00                    0.50   \n",
      "18                        -0.71                    0.36   \n",
      "19                         0.00                    0.00   \n",
      "20                         0.00                    0.50   \n",
      "21                         0.00                    0.50   \n",
      "22                         0.00                    0.50   \n",
      "23                         0.40                    0.05   \n",
      "24                        -0.40                    0.20   \n",
      "25                         0.40                    0.40   \n",
      "26                         0.00                    0.50   \n",
      "27                         0.50                    0.00   \n",
      "28                         0.00                    0.50   \n",
      "29                         0.50                    0.00   \n",
      "...                         ...                     ...   \n",
      "39614                      0.00                    0.50   \n",
      "39615                      0.14                    0.05   \n",
      "39616                      0.14                    0.05   \n",
      "39617                      0.14                    0.05   \n",
      "39618                     -0.12                    0.38   \n",
      "39619                      0.00                    0.50   \n",
      "39620                      0.00                    0.15   \n",
      "39621                      0.00                    0.50   \n",
      "39622                      0.17                    0.20   \n",
      "39623                     -0.40                    0.35   \n",
      "39624                      0.00                    0.50   \n",
      "39625                      0.40                    0.30   \n",
      "39626                      0.00                    0.50   \n",
      "39627                     -0.13                    0.08   \n",
      "39628                      0.00                    0.50   \n",
      "39629                     -0.50                    0.50   \n",
      "39630                      0.17                    0.02   \n",
      "39631                     -1.00                    0.50   \n",
      "39632                      0.50                    0.00   \n",
      "39633                      0.00                    0.50   \n",
      "39634                      0.00                    0.50   \n",
      "39635                      0.00                    0.40   \n",
      "39636                      0.00                    0.50   \n",
      "39637                     -0.60                    0.28   \n",
      "39638                      0.00                    0.50   \n",
      "39639                      0.00                    0.40   \n",
      "39640                      1.00                    0.20   \n",
      "39641                      0.14                    0.05   \n",
      "39642                      0.00                    0.50   \n",
      "39643                      0.25                    0.17   \n",
      "\n",
      "       abs_title_sentiment_polarity  \n",
      "0                              0.19  \n",
      "1                              0.00  \n",
      "2                              0.00  \n",
      "3                              0.00  \n",
      "4                              0.14  \n",
      "5                              0.21  \n",
      "6                              0.00  \n",
      "7                              0.50  \n",
      "8                              0.00  \n",
      "9                              0.00  \n",
      "10                             0.00  \n",
      "11                             0.00  \n",
      "12                             1.00  \n",
      "13                             1.00  \n",
      "14                             0.55  \n",
      "15                             0.25  \n",
      "16                             0.10  \n",
      "17                             0.00  \n",
      "18                             0.71  \n",
      "19                             0.00  \n",
      "20                             0.00  \n",
      "21                             0.00  \n",
      "22                             0.00  \n",
      "23                             0.40  \n",
      "24                             0.40  \n",
      "25                             0.40  \n",
      "26                             0.00  \n",
      "27                             0.50  \n",
      "28                             0.00  \n",
      "29                             0.50  \n",
      "...                             ...  \n",
      "39614                          0.00  \n",
      "39615                          0.14  \n",
      "39616                          0.14  \n",
      "39617                          0.14  \n",
      "39618                          0.12  \n",
      "39619                          0.00  \n",
      "39620                          0.00  \n",
      "39621                          0.00  \n",
      "39622                          0.17  \n",
      "39623                          0.40  \n",
      "39624                          0.00  \n",
      "39625                          0.40  \n",
      "39626                          0.00  \n",
      "39627                          0.13  \n",
      "39628                          0.00  \n",
      "39629                          0.50  \n",
      "39630                          0.17  \n",
      "39631                          1.00  \n",
      "39632                          0.50  \n",
      "39633                          0.00  \n",
      "39634                          0.00  \n",
      "39635                          0.00  \n",
      "39636                          0.00  \n",
      "39637                          0.60  \n",
      "39638                          0.00  \n",
      "39639                          0.00  \n",
      "39640                          1.00  \n",
      "39641                          0.14  \n",
      "39642                          0.00  \n",
      "39643                          0.25  \n",
      "\n",
      "[39644 rows x 58 columns]\n"
     ]
    }
   ],
   "source": [
    "#removing the attributes url and timedelta which are non predictive variables\n",
    "dfr12 = df.iloc[:, 2:60]\n",
    "print(dfr12)"
   ]
  },
  {
   "cell_type": "code",
   "execution_count": 5,
   "metadata": {
    "collapsed": true,
    "scrolled": true
   },
   "outputs": [],
   "source": [
    "data=dfr12"
   ]
  },
  {
   "cell_type": "code",
   "execution_count": 6,
   "metadata": {
    "scrolled": true
   },
   "outputs": [
    {
     "data": {
      "text/html": [
       "<div>\n",
       "<style>\n",
       "    .dataframe thead tr:only-child th {\n",
       "        text-align: right;\n",
       "    }\n",
       "\n",
       "    .dataframe thead th {\n",
       "        text-align: left;\n",
       "    }\n",
       "\n",
       "    .dataframe tbody tr th {\n",
       "        vertical-align: top;\n",
       "    }\n",
       "</style>\n",
       "<table border=\"1\" class=\"dataframe\">\n",
       "  <thead>\n",
       "    <tr style=\"text-align: right;\">\n",
       "      <th></th>\n",
       "      <th>n_tokens_title</th>\n",
       "      <th>n_tokens_content</th>\n",
       "      <th>n_unique_tokens</th>\n",
       "      <th>n_non_stop_words</th>\n",
       "      <th>...</th>\n",
       "      <th>title_subjectivity</th>\n",
       "      <th>title_sentiment_polarity</th>\n",
       "      <th>abs_title_subjectivity</th>\n",
       "      <th>abs_title_sentiment_polarity</th>\n",
       "    </tr>\n",
       "  </thead>\n",
       "  <tbody>\n",
       "    <tr>\n",
       "      <th>0</th>\n",
       "      <td>12</td>\n",
       "      <td>219</td>\n",
       "      <td>0.66</td>\n",
       "      <td>1.0</td>\n",
       "      <td>...</td>\n",
       "      <td>0.50</td>\n",
       "      <td>-0.19</td>\n",
       "      <td>0.00</td>\n",
       "      <td>0.19</td>\n",
       "    </tr>\n",
       "    <tr>\n",
       "      <th>1</th>\n",
       "      <td>9</td>\n",
       "      <td>211</td>\n",
       "      <td>0.58</td>\n",
       "      <td>1.0</td>\n",
       "      <td>...</td>\n",
       "      <td>0.00</td>\n",
       "      <td>0.00</td>\n",
       "      <td>0.50</td>\n",
       "      <td>0.00</td>\n",
       "    </tr>\n",
       "    <tr>\n",
       "      <th>2</th>\n",
       "      <td>9</td>\n",
       "      <td>255</td>\n",
       "      <td>0.60</td>\n",
       "      <td>1.0</td>\n",
       "      <td>...</td>\n",
       "      <td>0.00</td>\n",
       "      <td>0.00</td>\n",
       "      <td>0.50</td>\n",
       "      <td>0.00</td>\n",
       "    </tr>\n",
       "    <tr>\n",
       "      <th>3</th>\n",
       "      <td>9</td>\n",
       "      <td>531</td>\n",
       "      <td>0.50</td>\n",
       "      <td>1.0</td>\n",
       "      <td>...</td>\n",
       "      <td>0.00</td>\n",
       "      <td>0.00</td>\n",
       "      <td>0.50</td>\n",
       "      <td>0.00</td>\n",
       "    </tr>\n",
       "    <tr>\n",
       "      <th>4</th>\n",
       "      <td>13</td>\n",
       "      <td>1072</td>\n",
       "      <td>0.42</td>\n",
       "      <td>1.0</td>\n",
       "      <td>...</td>\n",
       "      <td>0.45</td>\n",
       "      <td>0.14</td>\n",
       "      <td>0.05</td>\n",
       "      <td>0.14</td>\n",
       "    </tr>\n",
       "  </tbody>\n",
       "</table>\n",
       "<p>5 rows × 58 columns</p>\n",
       "</div>"
      ],
      "text/plain": [
       "   n_tokens_title  n_tokens_content  n_unique_tokens  n_non_stop_words  \\\n",
       "0              12               219             0.66               1.0   \n",
       "1               9               211             0.58               1.0   \n",
       "2               9               255             0.60               1.0   \n",
       "3               9               531             0.50               1.0   \n",
       "4              13              1072             0.42               1.0   \n",
       "\n",
       "               ...               title_subjectivity  title_sentiment_polarity  \\\n",
       "0              ...                             0.50                     -0.19   \n",
       "1              ...                             0.00                      0.00   \n",
       "2              ...                             0.00                      0.00   \n",
       "3              ...                             0.00                      0.00   \n",
       "4              ...                             0.45                      0.14   \n",
       "\n",
       "   abs_title_subjectivity  abs_title_sentiment_polarity  \n",
       "0                    0.00                          0.19  \n",
       "1                    0.50                          0.00  \n",
       "2                    0.50                          0.00  \n",
       "3                    0.50                          0.00  \n",
       "4                    0.05                          0.14  \n",
       "\n",
       "[5 rows x 58 columns]"
      ]
     },
     "execution_count": 6,
     "metadata": {},
     "output_type": "execute_result"
    }
   ],
   "source": [
    "data.head()"
   ]
  },
  {
   "cell_type": "code",
   "execution_count": 7,
   "metadata": {
    "collapsed": true,
    "scrolled": true
   },
   "outputs": [],
   "source": [
    "target=  df.iloc[:,61]"
   ]
  },
  {
   "cell_type": "code",
   "execution_count": 8,
   "metadata": {
    "scrolled": true
   },
   "outputs": [
    {
     "data": {
      "text/plain": [
       "0    Unpopular\n",
       "1      Popular\n",
       "2    Unpopular\n",
       "3    Unpopular\n",
       "4    Unpopular\n",
       "Name: split, dtype: object"
      ]
     },
     "execution_count": 8,
     "metadata": {},
     "output_type": "execute_result"
    }
   ],
   "source": [
    "target.head()"
   ]
  },
  {
   "cell_type": "code",
   "execution_count": 9,
   "metadata": {
    "scrolled": true
   },
   "outputs": [
    {
     "name": "stdout",
     "output_type": "stream",
     "text": [
      "0        Unpopular\n",
      "1          Popular\n",
      "2        Unpopular\n",
      "3        Unpopular\n",
      "4        Unpopular\n",
      "5        Unpopular\n",
      "6        Unpopular\n",
      "7        Unpopular\n",
      "8          Popular\n",
      "9        Unpopular\n",
      "10         Popular\n",
      "11         Popular\n",
      "12       Unpopular\n",
      "13         Popular\n",
      "14       Unpopular\n",
      "15         Popular\n",
      "16         Popular\n",
      "17         Popular\n",
      "18         Popular\n",
      "19         Popular\n",
      "20         Popular\n",
      "21       Unpopular\n",
      "22       Unpopular\n",
      "23         Popular\n",
      "24       Unpopular\n",
      "25       Unpopular\n",
      "26         Popular\n",
      "27         Popular\n",
      "28       Unpopular\n",
      "29       Unpopular\n",
      "           ...    \n",
      "39614    Unpopular\n",
      "39615      Popular\n",
      "39616      Popular\n",
      "39617    Unpopular\n",
      "39618    Unpopular\n",
      "39619    Unpopular\n",
      "39620      Popular\n",
      "39621      Popular\n",
      "39622      Popular\n",
      "39623    Unpopular\n",
      "39624      Popular\n",
      "39625    Unpopular\n",
      "39626    Unpopular\n",
      "39627    Unpopular\n",
      "39628    Unpopular\n",
      "39629      Popular\n",
      "39630      Popular\n",
      "39631    Unpopular\n",
      "39632      Popular\n",
      "39633      Popular\n",
      "39634    Unpopular\n",
      "39635    Unpopular\n",
      "39636      Popular\n",
      "39637    Unpopular\n",
      "39638    Unpopular\n",
      "39639      Popular\n",
      "39640      Popular\n",
      "39641      Popular\n",
      "39642    Unpopular\n",
      "39643    Unpopular\n",
      "Name: split, Length: 39644, dtype: object\n"
     ]
    }
   ],
   "source": [
    "print(target)"
   ]
  },
  {
   "cell_type": "code",
   "execution_count": 10,
   "metadata": {
    "scrolled": true
   },
   "outputs": [
    {
     "name": "stdout",
     "output_type": "stream",
     "text": [
      "Type of data: <class 'pandas.core.frame.DataFrame'>\n",
      "Type of data: <class 'pandas.core.frame.DataFrame'>\n",
      "Type of data: <class 'pandas.core.series.Series'>\n"
     ]
    }
   ],
   "source": [
    "print(\"Type of data: {}\".format(type(df)))\n",
    "print(\"Type of data: {}\".format(type(data)))\n",
    "print(\"Type of data: {}\".format(type(target)))"
   ]
  },
  {
   "cell_type": "code",
   "execution_count": 11,
   "metadata": {
    "collapsed": true,
    "scrolled": true
   },
   "outputs": [],
   "source": [
    "from sklearn.model_selection import train_test_split\n",
    "X_train, X_test, y_train, y_test = train_test_split(\n",
    "    data, target, random_state=0)"
   ]
  },
  {
   "cell_type": "code",
   "execution_count": 12,
   "metadata": {
    "scrolled": true
   },
   "outputs": [
    {
     "name": "stdout",
     "output_type": "stream",
     "text": [
      "X_train shape: (29733, 58)\n",
      "y_train shape: (29733,)\n"
     ]
    }
   ],
   "source": [
    "print(\"X_train shape: {}\".format(X_train.shape))\n",
    "print(\"y_train shape: {}\".format(y_train.shape))"
   ]
  },
  {
   "cell_type": "code",
   "execution_count": 13,
   "metadata": {
    "scrolled": true
   },
   "outputs": [
    {
     "name": "stdout",
     "output_type": "stream",
     "text": [
      "X_test shape: (9911, 58)\n",
      "y_test shape: (9911,)\n"
     ]
    }
   ],
   "source": [
    "print(\"X_test shape: {}\".format(X_test.shape))\n",
    "print(\"y_test shape: {}\".format(y_test.shape))"
   ]
  },
  {
   "cell_type": "code",
   "execution_count": 14,
   "metadata": {},
   "outputs": [
    {
     "data": {
      "text/plain": [
       "KNeighborsClassifier(algorithm='auto', leaf_size=30, metric='minkowski',\n",
       "           metric_params=None, n_jobs=1, n_neighbors=5, p=2,\n",
       "           weights='uniform')"
      ]
     },
     "execution_count": 14,
     "metadata": {},
     "output_type": "execute_result"
    }
   ],
   "source": [
    "from sklearn.neighbors import KNeighborsClassifier\n",
    "knn = KNeighborsClassifier(n_neighbors=5)\n",
    "knn.fit(X_train, y_train)"
   ]
  },
  {
   "cell_type": "code",
   "execution_count": 15,
   "metadata": {},
   "outputs": [
    {
     "name": "stdout",
     "output_type": "stream",
     "text": [
      "Test set predictions:\n",
      " ['Unpopular' 'Popular' 'Popular' ..., 'Popular' 'Popular' 'Unpopular']\n"
     ]
    }
   ],
   "source": [
    "#predicting on test data\n",
    "y_pred = knn.predict(X_test)\n",
    "print(\"Test set predictions:\\n {}\".format(y_pred))"
   ]
  },
  {
   "cell_type": "code",
   "execution_count": 16,
   "metadata": {},
   "outputs": [
    {
     "name": "stdout",
     "output_type": "stream",
     "text": [
      "Test set score: 0.57\n"
     ]
    }
   ],
   "source": [
    "\n",
    "print ( \"Test set score: {:.2f}\" . format ( np . mean ( y_pred  ==  y_test )))"
   ]
  },
  {
   "cell_type": "code",
   "execution_count": 17,
   "metadata": {},
   "outputs": [
    {
     "name": "stdout",
     "output_type": "stream",
     "text": [
      "Test set score: 0.57\n"
     ]
    }
   ],
   "source": [
    "\n",
    "print(\"Test set score: {:.2f}\".format(knn.score(X_test, y_test)))"
   ]
  },
  {
   "cell_type": "code",
   "execution_count": 18,
   "metadata": {},
   "outputs": [
    {
     "name": "stdout",
     "output_type": "stream",
     "text": [
      "Train set predictions:\n",
      " ['Unpopular' 'Unpopular' 'Popular' ..., 'Popular' 'Popular' 'Popular']\n"
     ]
    }
   ],
   "source": [
    "#accuracy on training data\n",
    "y_pred = knn.predict(X_train)\n",
    "print(\"Train set predictions:\\n {}\".format(y_pred))"
   ]
  },
  {
   "cell_type": "code",
   "execution_count": 19,
   "metadata": {},
   "outputs": [
    {
     "name": "stdout",
     "output_type": "stream",
     "text": [
      "Train set score: 0.72\n"
     ]
    }
   ],
   "source": [
    "print(\"Train set score: {:.2f}\".format(knn.score(X_train, y_train)))"
   ]
  },
  {
   "cell_type": "code",
   "execution_count": 24,
   "metadata": {},
   "outputs": [
    {
     "ename": "NameError",
     "evalue": "name 'train_accuracy' is not defined",
     "output_type": "error",
     "traceback": [
      "\u001b[1;31m---------------------------------------------------------------------------\u001b[0m",
      "\u001b[1;31mNameError\u001b[0m                                 Traceback (most recent call last)",
      "\u001b[1;32m<ipython-input-24-9263597f06b1>\u001b[0m in \u001b[0;36m<module>\u001b[1;34m()\u001b[0m\n\u001b[0;32m     19\u001b[0m \u001b[0mplt\u001b[0m\u001b[1;33m.\u001b[0m\u001b[0mlegend\u001b[0m\u001b[1;33m(\u001b[0m\u001b[1;33m)\u001b[0m\u001b[1;33m\u001b[0m\u001b[0m\n\u001b[0;32m     20\u001b[0m \u001b[0mplt\u001b[0m\u001b[1;33m.\u001b[0m\u001b[0msavefig\u001b[0m\u001b[1;33m(\u001b[0m\u001b[1;34m'fig.png'\u001b[0m\u001b[1;33m)\u001b[0m\u001b[1;33m\u001b[0m\u001b[0m\n\u001b[1;32m---> 21\u001b[1;33m \u001b[0mprint\u001b[0m\u001b[1;33m(\u001b[0m\u001b[0mtrain_accuracy\u001b[0m\u001b[1;33m)\u001b[0m\u001b[1;33m\u001b[0m\u001b[0m\n\u001b[0m\u001b[0;32m     22\u001b[0m \u001b[0mprint\u001b[0m\u001b[1;33m(\u001b[0m\u001b[0mtest_accuracy\u001b[0m\u001b[1;33m)\u001b[0m\u001b[1;33m\u001b[0m\u001b[0m\n",
      "\u001b[1;31mNameError\u001b[0m: name 'train_accuracy' is not defined"
     ]
    },
    {
     "data": {
      "application/pdf": "[encoded data removed]",
      "image/png": "[encoded data removed]",
      "text/plain": [
       "<matplotlib.figure.Figure at 0x2565dfcad30>"
      ]
     },
     "metadata": {},
     "output_type": "display_data"
    }
   ],
   "source": [
    "training_accuracy = []\n",
    "test_accuracy = []\n",
    "# try n_neighbors from 1 to 10\n",
    "neighbors_settings = range(1, 20)\n",
    "\n",
    "for n_neighbors in neighbors_settings:\n",
    "    # build the model\n",
    "    clf = KNeighborsClassifier(n_neighbors=n_neighbors)\n",
    "    clf.fit(X_train, y_train)\n",
    "    # record training set accuracy\n",
    "    training_accuracy.append(clf.score(X_train, y_train))\n",
    "    # record generalization accuracy\n",
    "    test_accuracy.append(clf.score(X_test, y_test))\n",
    "    \n",
    "plt.plot(neighbors_settings, training_accuracy, label=\"training accuracy\")\n",
    "plt.plot(neighbors_settings, test_accuracy, label=\"test accuracy\")\n",
    "plt.ylabel(\"Accuracy\")\n",
    "plt.xlabel(\"n_neighbors\")\n",
    "plt.legend()\n",
    "plt.savefig('fig.png')\n",
    "print(train_accuracy)\n",
    "print(test_accuracy)"
   ]
  },
  {
   "cell_type": "code",
   "execution_count": 21,
   "metadata": {},
   "outputs": [
    {
     "data": {
      "text/plain": [
       "KNeighborsClassifier(algorithm='auto', leaf_size=30, metric='minkowski',\n",
       "           metric_params=None, n_jobs=1, n_neighbors=5, p=2,\n",
       "           weights='uniform')"
      ]
     },
     "execution_count": 21,
     "metadata": {},
     "output_type": "execute_result"
    }
   ],
   "source": [
    "#first scaling the data ,applying knn and then plotting a plot for differnet values of k\n",
    "from sklearn.preprocessing import StandardScaler\n",
    "from sklearn.neighbors import KNeighborsClassifier\n",
    "scaler = StandardScaler()\n",
    "scaler.fit(X_train)\n",
    "X_train_scaled = scaler.transform(X_train)\n",
    "X_test_scaled = scaler.transform(X_test)\n",
    "knn = KNeighborsClassifier(n_neighbors=5)\n",
    "knn.fit(X_train_scaled, y_train)"
   ]
  },
  {
   "cell_type": "code",
   "execution_count": 22,
   "metadata": {},
   "outputs": [
    {
     "name": "stdout",
     "output_type": "stream",
     "text": [
      "Test set score: 0.60\n"
     ]
    }
   ],
   "source": [
    "print(\"Test set score: {:.2f}\".format(knn.score(X_test_scaled, y_test)))"
   ]
  },
  {
   "cell_type": "code",
   "execution_count": 23,
   "metadata": {},
   "outputs": [
    {
     "data": {
      "application/pdf": "[encoded data removed]",
      "image/png": "[encoded data removed]",
      "text/plain": [
       "<matplotlib.figure.Figure at 0x2565bb0e550>"
      ]
     },
     "metadata": {},
     "output_type": "display_data"
    }
   ],
   "source": [
    "training_accuracy = []\n",
    "test_accuracy = []\n",
    "# try n_neighbors from 1 to 10\n",
    "neighbors_settings = range(1, 11)\n",
    "\n",
    "for n_neighbors in neighbors_settings:\n",
    "    # build the model\n",
    "    clf = KNeighborsClassifier(n_neighbors=n_neighbors)\n",
    "    clf.fit(X_train_scaled, y_train)\n",
    "    # record training set accuracy\n",
    "    training_accuracy.append(clf.score(X_train_scaled, y_train))\n",
    "    # record generalization accuracy\n",
    "    test_accuracy.append(clf.score(X_test_scaled, y_test))\n",
    "    \n",
    "plt.plot(neighbors_settings, training_accuracy, label=\"training accuracy\")\n",
    "plt.plot(neighbors_settings, test_accuracy, label=\"test accuracy\")\n",
    "plt.ylabel(\"Accuracy\")\n",
    "plt.xlabel(\"n_neighbors\")\n",
    "plt.legend()\n",
    "plt.savefig('foo.png')"
   ]
  },
  {
   "cell_type": "code",
   "execution_count": null,
   "metadata": {
    "collapsed": true
   },
   "outputs": [],
   "source": []
  }
 ],
 "metadata": {
  "kernelspec": {
   "display_name": "Python 3",
   "language": "python",
   "name": "python3"
  },
  "language_info": {
   "codemirror_mode": {
    "name": "ipython",
    "version": 3
   },
   "file_extension": ".py",
   "mimetype": "text/x-python",
   "name": "python",
   "nbconvert_exporter": "python",
   "pygments_lexer": "ipython3",
   "version": "3.6.1"
  }
 },
 "nbformat": 4,
 "nbformat_minor": 2
}
