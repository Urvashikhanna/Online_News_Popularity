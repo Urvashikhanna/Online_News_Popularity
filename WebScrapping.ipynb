{
 "cells": [
  {
   "cell_type": "code",
   "execution_count": 1,
   "metadata": {},
   "outputs": [
    {
     "name": "stdout",
     "output_type": "stream",
     "text": [
      "Buddy the blue heeler ticks off bucket list, becomes police dog\n",
      "\n",
      "\n",
      "It's been a happy few days for Buddy, the dog ticking off his bucket list dreams.\n",
      "\n",
      "The Queensland Police Service stepped into help on Thursday afternoon, making the 6-year-old blue heeler a police dog for a day, completing number 17 on his bucket list.\n",
      "\n",
      "SEE ALSO: Man makes homemade wheelchair for girlfriend's dog\n",
      "Buddy, from Brisbane, was diagnosed with terminal cancer two weeks ago and given only four to six weeks to live. \n",
      "\n",
      "\n",
      "\n",
      "(function(d, s, id) {  var js, fjs = d.getElementsByTagName(s)[0];  if (d.getElementById(id)) return;  js = d.createElement(s); js.id = id;  js.src = \"//connect.facebook.net/en_GB/sdk.js#xfbml=1&version=v2.3\";  fjs.parentNode.insertBefore(js, fjs);}(document, 'script', 'facebook-jssdk'));\n",
      "Police help fulfil bucket list item for a terminally ill best ...\n",
      "This afternoon Dutton Park Police and the Dog Squad helped terminally ill Buddy the Blue Heeler get one paw closer to completing his bucket list. Read more here: http://mypolice.qld.gov.au/blog/2016/02/18/police-help-fulfil-bucket-list-item-terminally-ill-best-friend/\n",
      "Posted by Queensland Police Service on Wednesday, 17 February 2016\n",
      "\n",
      "\n",
      "His owner, Emily, started a Facebook page called \"Buddy's Bucket List,\" following him on his adventures, in which he's ridden in a Jeep, been pampered at a doggy spa, and eaten a steak dinner.\n",
      "This time around, Buddy was made an honorary member of Dutton Park Police's dog squad, picking up the ropes in the police car with recruit dog Chopper and police puppy Bendix, according to Queensland Police.\n",
      "\n",
      "Image:  buddy's bucket list/Facebook\n",
      "Emily told Mashable Australia it all came together when a police officer on the Sunshine Coast saw the page and made the calls to make it happen. \"She was absolutely amazing, I'm so grateful to her,\" Emily said.\n",
      "Following the ride, Buddy was rewarded with presents and a certificate that made Buddy an honourary police dog and handler.\n",
      "All in the day of the life of a dog who's living it up.\n",
      "\n",
      "Image:  buddy's bucket list/facebookHave something to add to this story? Share it in the comments.\n",
      "\n",
      "\n",
      "\n",
      "      window._msla=window.loadScriptAsync||function(src,id){if(document.getElementById(id))return;var js=document.createElement('script');js.id=id;js.src=src;document.getElementsByTagName('script')[0].parentNode.insertBefore(js,fjs);};\n",
      "_msla(\"//connect.facebook.net/en_US/sdk.js#xfbml=1&version=v2.5&appId=122071082108&status=1&cookie=1\",\"facebook_jssdk\");\n",
      "\n",
      "409\n",
      "6.663461538461538\n"
     ]
    },
    {
     "name": "stderr",
     "output_type": "stream",
     "text": [
      "C:\\Users\\Kapila\\Anaconda3\\lib\\site-packages\\bs4\\__init__.py:181: UserWarning: No parser was explicitly specified, so I'm using the best available HTML parser for this system (\"lxml\"). This usually isn't a problem, but if you run this code on another system, or in a different virtual environment, it may use a different parser and behave differently.\n",
      "\n",
      "The code that caused this warning is on line 193 of the file C:\\Users\\Kapila\\Anaconda3\\lib\\runpy.py. To get rid of this warning, change code that looks like this:\n",
      "\n",
      " BeautifulSoup(YOUR_MARKUP})\n",
      "\n",
      "to this:\n",
      "\n",
      " BeautifulSoup(YOUR_MARKUP, \"lxml\")\n",
      "\n",
      "  markup_type=markup_type))\n"
     ]
    },
    {
     "name": "stdout",
     "output_type": "stream",
     "text": [
      "/cookie-policy/\n",
      "#\n",
      "/\n",
      "?geo=US&utm_cid=mash-prod-nav-geo\n",
      "?geo=AS&utm_cid=mash-prod-nav-geo\n",
      "http://mashable.france24.com/?ns_campaign=mashablefr&ns_source=mashnav\n",
      "?geo=IN&utm_cid=mash-prod-nav-geo\n",
      "?geo=GB&utm_cid=mash-prod-nav-geo\n",
      "/login/\n",
      "/follow-mashable/\n",
      "https://twitter.com/mashable\n",
      "http://www.pinterest.com/Mashable/\n",
      "http://feeds.mashable.com/Mashable\n",
      "/subscriptions/\n",
      "/follow-mashable\n",
      "/search/\n",
      "/videos/?utm_cid=mash-prod-nav-ch\n",
      "/entertainment/?utm_cid=mash-prod-nav-ch\n",
      "/culture/?utm_cid=mash-prod-nav-ch\n",
      "/tech/?utm_cid=mash-prod-nav-ch\n",
      "/science/?utm_cid=mash-prod-nav-ch\n",
      "/business/?utm_cid=mash-prod-nav-ch\n",
      "/social-good/?utm_cid=mash-prod-nav-ch\n",
      "#\n",
      "/videos/\n",
      "/entertainment/\n",
      "/culture/\n",
      "/tech/\n",
      "/science/\n",
      "/business/\n",
      "/social-good/\n",
      "/about/\n",
      "http://www.wrightsmedia.com/sites/mashable/\n",
      "/2015/\n",
      "/careers/\n",
      "/contact-us/\n",
      "/submit/\n",
      "/advertise/\n",
      "/privacy/\n",
      "/terms/\n",
      "/cookie-policy/\n",
      "/copyright-policy/\n",
      "https://itunes.apple.com/us/app/mashable/id910775754?mt=8\n",
      "https://play.google.com/store/apps/details?id=com.mashable.android.phoenix\n",
      "/follow-mashable/\n",
      "http://findjobs.mashable.com\n",
      "http://mashable.com/sgs/\n",
      "https://twitter.com/intent/follow?region=follow_link&screen_name=mashable&tw_p=followbutton&variant=2.0\n",
      "https://plus.google.com/+Mashable/auto\n",
      "#\n",
      "https://twitter.com/intent/tweet?original_referer=http://mashable.com/&source=tweetbutton&text=With+weeks+to+live%2C+Buddy+the+blue+heeler+becomes+honourary+police+dog&url=http%3A%2F%2Fmashable.com%2F2016%2F02%2F18%2Fbuddy-police-dog%2F&via=mashable\n",
      "#\n",
      "#\n",
      "#\n",
      "#\n",
      "https://www.facebook.com/buddysbucketlist/?fref=ts\n",
      "/author/johnny-lieu/\n",
      "/author/johnny-lieu/\n",
      "http://mashable.com/2016/02/16/buddy-dog-bucket-list/\n",
      "http://mashable.com/2016/02/18/homemade-dog-wheelchair/\n",
      "https://www.facebook.com/QueenslandPolice/videos/10154077764118254/\n",
      "https://www.facebook.com/QueenslandPolice/\n",
      "https://www.facebook.com/buddysbucketlist/?fref=ts\n",
      "http://mypolice.qld.gov.au/blog/2016/02/18/police-help-fulfil-bucket-list-item-terminally-ill-best-friend/\n",
      "https://www.facebook.com/buddysbucketlist/?fref=ts\n",
      "https://www.facebook.com/buddysbucketlist/?fref=ts\n",
      "/category/australia/\n",
      "/category/photography/\n",
      "/category/video/\n",
      "/category/culture/\n",
      "/about/\n",
      "http://findjobs.mashable.com\n",
      "/advertise/\n",
      "/2011/05/09/connect-with-mashable/\n",
      "/privacy/\n",
      "/terms/\n",
      "http://www.facebook.com/mashable/\n",
      "https://twitter.com/mashable\n",
      "https://plus.google.com/+Mashable\n",
      "http://feeds.mashable.com/Mashable\n",
      "http://pinterest.com/mashable/\n",
      "http://www.youtube.com/user/mashable\n",
      "http://www.stumbleupon.com/channel/Mashable\n",
      "http://www.linkedin.com/today/mashable.com\n",
      "/\n",
      "http://www.codeandtheory.com\n"
     ]
    }
   ],
   "source": [
    "#Web scrapping\n",
    "import urllib.request\n",
    "from bs4 import BeautifulSoup\n",
    "from urllib.request import urlopen\n",
    "from urllib.error import HTTPError\n",
    "from bs4 import BeautifulSoup\n",
    "\n",
    "\n",
    "\n",
    "page = urllib.request.urlopen(\"http://mashable.com/2016/02/18/buddy-police-dog/#1HQ4IlsP_qq6\")#The url you want to open\n",
    "\n",
    "\n",
    "# parse the html using beautiful soap and store in variable `soup`\n",
    "soup = BeautifulSoup(page, 'html.parser')\n",
    "\n",
    "#print(soup.prettify())\n",
    "\n",
    "print(soup.title.string)\n",
    "\n",
    "#all_links=soup.find_all(\"a\")\n",
    "#for link in all_links:\n",
    " #   print(link.get(\"href\"))\n",
    "\n",
    "\n",
    "    \n",
    "nameList = soup.findAll(\"section\", {\"class\":\"article-content\"})\n",
    "for name in nameList:\n",
    "    t=name.get_text()\n",
    "    print(t)\n",
    "    \n",
    "  \n",
    "#images = soup.findAll(\"figure\", {\"class\":\"article-image\"})\n",
    "#for image in images: \n",
    "    #print(image)\n",
    "\n",
    "import re\n",
    "#line = ''.join(line.split())\n",
    "count = len(re.findall(r'\\w+', t))\n",
    "print(count)  \n",
    "\n",
    "\n",
    "words = t.split()\n",
    "average = sum(len(word) for word in words) / len(words)\n",
    "print(average)\n",
    "\n",
    "\n",
    "\n",
    "\n",
    "#def getTitle(url):\n",
    " #   try:\n",
    "  #      html = urlopen(url)\n",
    "   # except HTTPError as e:\n",
    "    #    return None\n",
    "    #try:\n",
    "     #   bsObj = BeautifulSoup(html.read())\n",
    "      #  title = bsObj.title.string\n",
    "    #except AttributeError as e:\n",
    "     #   return None\n",
    "    #return title\n",
    "#title = getTitle(\"http://mashable.com/2014/02/13/lg-g-pro-2-2/\")\n",
    "#if title == None:\n",
    " #   print(\"Title could not be found\")\n",
    "#else:\n",
    " #   print(title)\n",
    "\n",
    "#from urllib.request import urlopen\n",
    "#from bs4 import BeautifulSoup \n",
    "\n",
    "html = urlopen(\"http://mashable.com/2016/02/18/buddy-police-dog/#1HQ4IlsP_qq6\")\n",
    "bsObj = BeautifulSoup(html)\n",
    "for link in bsObj.findAll(\"a\"):\n",
    "    if 'href' in link.attrs:\n",
    "        print(link.attrs['href'])\n",
    "\n",
    "\n",
    "\n",
    "\n",
    "\n",
    "\n",
    "\n",
    "\n",
    "\n",
    "\n"
   ]
  },
  {
   "cell_type": "code",
   "execution_count": 6,
   "metadata": {},
   "outputs": [
    {
     "name": "stdout",
     "output_type": "stream",
     "text": [
      "Vocabulary size: 9\n",
      "Vocabulary content:\n",
      " {'the': 7, 'solar': 5, 'eclipse': 1, 'you': 8, 'could': 0, 'only': 3, 'see': 4, 'from': 2, 'space': 6}\n"
     ]
    }
   ],
   "source": [
    "bards_words=[\"The Solar Eclipse You Could Only See From Space\"]\n",
    "from sklearn.feature_extraction.text import CountVectorizer\n",
    "vect = CountVectorizer()\n",
    "vect.fit(bards_words)\n",
    "\n",
    "print(\"Vocabulary size: {}\".format(len(vect.vocabulary_)))\n",
    "print(\"Vocabulary content:\\n {}\".format(vect.vocabulary_))"
   ]
  },
  {
   "cell_type": "code",
   "execution_count": 77,
   "metadata": {
    "collapsed": true
   },
   "outputs": [],
   "source": [
    "import nltk"
   ]
  },
  {
   "cell_type": "code",
   "execution_count": 78,
   "metadata": {},
   "outputs": [
    {
     "name": "stdout",
     "output_type": "stream",
     "text": [
      "showing info https://raw.githubusercontent.com/nltk/nltk_data/gh-pages/index.xml\n"
     ]
    },
    {
     "data": {
      "text/plain": [
       "True"
      ]
     },
     "execution_count": 78,
     "metadata": {},
     "output_type": "execute_result"
    }
   ],
   "source": [
    "nltk.download()\n"
   ]
  },
  {
   "cell_type": "code",
   "execution_count": 79,
   "metadata": {
    "collapsed": true
   },
   "outputs": [],
   "source": [
    "# load text\n",
    "filename = 'C:/Users/Kapila/Desktop/Macquarie coursework/COMP777 Computing Methods of Research/webscrapping/magicwand.txt'\n",
    "file = open(filename, 'rt')\n",
    "text = file.read()\n",
    "file.close()"
   ]
  },
  {
   "cell_type": "code",
   "execution_count": 80,
   "metadata": {
    "collapsed": true
   },
   "outputs": [],
   "source": [
    "# load data\n",
    "filename = 'C:/Users/Kapila/Desktop/Macquarie coursework/COMP777 Computing Methods of Research/webscrapping/magicwand.txt'\n",
    "file = open(filename, 'rt')\n",
    "text = file.read()\n",
    "file.close()\n",
    "# split into words\n",
    "from nltk.tokenize import word_tokenize\n",
    "tokens = word_tokenize(text)\n"
   ]
  },
  {
   "cell_type": "code",
   "execution_count": 81,
   "metadata": {},
   "outputs": [
    {
     "name": "stdout",
     "output_type": "stream",
     "text": [
      "Vocabulary size: 1435\n",
      "Vocabulary content:\n",
      " ['It', \"'s\", 'the', 'first', 'thing', 'you', 'see', 'when', 'entering', 'Facebook', \"'s\", 'campus', 'in', 'Menlo', 'Park', ',', 'Calif', ',', 'and', 'without', 'a', 'doubt', 'the', 'image', 'most', 'closely', 'associated', 'with', 'the', 'social', 'network', '.', 'The', 'Facebook', 'Like', 'icon', ',', 'with', 'its', 'iconic', 'thumbs', 'up', 'design', ',', 'launched', 'in', 'early', '2009', '.', 'The', 'following', 'year', ',', 'Facebook', 'launched', 'the', 'Like', 'button', 'for', 'other', 'websites', '.', 'By', 'the', 'end', 'of', 'last', 'year', ',', 'Facebook', \"'s\", 'Like', 'and', 'Share', 'buttons', 'were', 'being', 'viewed', 'more', 'than', '22', 'billion', 'times', 'a', 'day', '.', 'See', 'also', ':', \"'It\", 'Was', 'Just', 'the', 'Dumbest', 'Luck', \"'\", '—', 'Facebook', \"'s\", 'First', 'Employees', 'Look', 'Back', \"''\", 'We', 'did', \"n't\", 'anticipate', 'that', 'it', 'was', 'going', 'to', 'be', 'such', 'a', 'cultural', 'icon', ',', \"''\", 'Soleio', 'Cuervo', ',', 'an', 'Facebook', 'product', 'designer', 'behind', 'the', 'Like', 'icon', ',', 'told', 'Mashable', 'in', 'an', 'interview', 'for', 'a', 'longer', 'piece', 'looking', 'back', 'at', 'the', 'social', 'network', 'on', 'its', '10th', 'anniversary', '.', 'As', 'it', 'turns', 'out', ',', 'the', 'Facebook', 'team', 'debated', 'a', 'number', 'of', 'other', 'designs', 'for', 'the', 'Like', 'button', 'before', 'settling', 'on', 'the', 'one', 'so', 'many', 'recognize', 'today', '.', '``', 'We', 'had', 'a', 'green', 'thumbs', 'up', '.', 'We', 'had', 'a', 'heart', '.', 'We', 'explored', 'stars', ',', \"''\", 'he', 'says', '.', '``', 'But', 'they', 'were', 'all', 'just', 'sort', 'of', 'generic', '.', \"''\", 'Cuervo', 'had', 'decided', 'he', 'wanted', 'to', 'use', 'a', 'hand', 'gesture', 'to', 'make', 'the', 'Like', 'function', 'to', '``', 'differentiate', \"''\", 'it', 'from', '``', 'its', 'counterpoints', 'on', 'other', 'services', ',', \"''\", 'but', 'that', 'led', 'to', 'one', 'notable', 'complication', ':', 'In', 'some', 'regions', ',', 'a', 'thumbs-up', 'gesture', 'is', 'viewed', 'as', 'an', 'insult', '.', '``', 'There', 'was', 'discussion', 'about', 'localizing', 'it', 'because', 'a', 'thumbs', 'up', 'in', 'other', 'cultures', 'is', 'a', 'profanity', ',', \"''\", 'Cuervo', 'says', '.', '``', 'I', 'dug', 'in', 'my', 'heals', 'on', 'that', '.', 'That', 'is', 'a', 'way', 'to', 'demonstrate', 'that', 'Facebook', 'is', 'here', 'to', 'stay', '.', \"''\", 'Cuervo', 'won', 'out', '.', 'The', 'thumbs', 'up', 'icon', 'still', 'exists', 'on', 'the', 'social', 'network', ',', 'although', 'three', 'and', 'a', 'half', 'years', 'later', ',', 'Facebook', 'decided', 'to', 'ditch', 'the', 'symbol', 'on', 'the', 'Like', 'button', 'in', 'favor', 'of', 'a', 'more', 'generic', '``', 'F', \"''\", 'logo', '.', 'By', 'that', 'time', ',', 'Cuervo', 'had', 'already', 'left', 'Facebook', 'and', 'joined', 'Dropbox', '.', 'Even', 'though', 'he', \"'s\", 'no', 'longer', 'with', 'the', 'company', 'and', 'the', 'button', \"'s\", 'design', 'has', 'changed', ',', 'he', 'says', 'some', 'still', 'associate', 'him', 'with', 'the', 'thumbs', 'up', '.', '``', 'My', 'little', 'brother', 'is', 'great', 'at', 'kicking', 'me', 'down', 'a', 'notch', ',', 'keeping', 'me', 'humble', ',', \"''\", 'Cuervo', 'says', '.', '``', 'He', 'says', ',', \"'You\", \"'re\", 'the', 'biggest', 'one-hit', 'wonder', 'of', 'all-time', '.', 'You', \"'re\", 'Thumbs', 'Up', 'Guy', '.', \"'\", \"''\", 'On', 'a', 'serious', 'note', ',', 'he', 'shrugs', 'off', 'credit', 'for', 'making', 'the', 'original', 'Like', 'button', \"'s\", 'design', 'iconic', '.', '``', 'The', 'reason', 'why', 'the', 'Like', 'button', 'is', 'so', 'iconic', 'is', 'not', 'because', 'of', 'the', 'work', 'I', 'did', ',', \"''\", 'he', 'says', '.', '``', 'It', \"'s\", 'a', 'testament', 'to', 'the', 'company', \"'s\", 'success', '.', \"''\", 'BONUS', ':', '8', 'Facebook', 'Cynics', 'Who', 'Doubted', 'the', 'Company', \"'s\", 'Direction', '8', 'People', 'Who', 'Doubted', 'Facebook', '1', '.', 'Vint', 'Cerf', 'The', 'Google', 'vice', 'president', 'and', 'chief', 'evangelist', 'said', 'in', '2011', 'that', 'Facebook', 'would', 'go', 'the', 'way', 'of', 'AOL', '.', 'Yup', ',', 'the', 'man', 'nicknamed', 'the', '“', 'Father', 'of', 'the', 'Internet', '”', 'said', 'the', 'site', 'was', 'becoming', 'a', '“', 'closed', 'walled', 'garden', '”', 'and', 'would', 'fail', 'to', 'keep', 'up', 'with', 'audiences', '.', 'Image', ':', 'Flickr', ',', 'Joi', 'Ito', '2', '.', 'Warren', 'Buffett', 'When', 'Facebook', 'held', 'its', 'IPO', 'in', '2012', ',', 'record', 'numbers', 'lined', 'up', 'to', 'buy', 'in', 'to', 'the', 'social', 'media', 'giant', '–', 'but', 'Warren', 'Buffett', 'wasn', '’', 't', 'one', 'of', 'them', '.', 'The', 'billionaire', 'and', 'his', 'business', 'partner', ',', 'Charlie', 'Munger', ',', 'avoided', 'it', ',', 'and', 'actually', 'advised', 'people', 'against', 'the', 'decision', '.', 'Buffett', 'didn', '’', 't', 'deny', 'that', 'Facebook', 'could', 'have', 'a', 'brilliant', 'future', ',', 'but', 'admitted', ',', '“', 'I', 'just', 'don', '’', 't', 'know', '.', \"''\", 'During', 'an', 'interview', 'with', 'CNBC', ',', 'he', 'said', ',', '``', 'I', \"'m\", 'an', 'agnostic', 'on', 'a', 'company', 'like', 'Facebook', '...', 'it', \"'s\", 'obviously', 'an', 'extraordinary', 'business', ',', 'but', 'they', \"'re\", 'the', 'hardest', 'ones', 'to', 'value', ',', 'because', 'the', 'question', 'is', 'whether', 'five', 'or', '10', 'years', 'from', 'now', 'that', 'they', 'will', 'be', 'as', 'extraordinary', 'as', 'they', 'are', 'now', '.', \"''\", 'Video', ':', 'YouTube', ',', 'WarrenBuffettBlog', '3', '.', 'Charlie', 'Munger', 'Munger', ',', 'on', 'the', 'other', 'hand', ',', 'was', 'a', 'bit', 'more', 'acidic', 'in', 'an', 'interview', 'with', 'CNN', '.', '“', 'I', 'do', \"n't\", 'invest', 'in', 'what', 'I', 'do', \"n't\", 'understand', '.', 'And', 'I', 'do', \"n't\", 'want', 'to', 'understand', 'Facebook', ',', \"''\", 'Munger', 'said', '.', '``', 'I', 'do', \"n't\", 'want', 'people', 'putting', 'all', 'this', 'personal', 'stuff', 'into', 'a', 'permanent', 'record', 'when', 'they', 'are', '15', 'years', 'of', 'age', '.', 'I', 'think', 'it', \"'s\", 'counterproductive…I', 'just', 'basically', 'do', \"n't\", 'like', 'it', '.', \"''\", 'Image', ':', 'Flickr', ',', 'Nick', 'Webb', '4', '.', 'Evan', 'Spiegel', 'An', 'air', 'of', 'drama', 'has', 'always', 'surrounded', 'the', 'Snapchat', 'CEO', '.', 'Zuckerberg', 'sensed', 'Snapchat', \"'s\", 'potential', ',', 'however', ',', 'and', 'offered', 'to', 'buy', 'the', 'company', 'for', '$', '3', 'billion', 'cash', '.', 'Spiegel', 'refused', 'the', 'offer', '.', '“', 'I', 'think', 'trading', 'that', 'for', 'some', 'short-term', 'gain', 'isn', '’', 't', 'very', 'interesting', ',', '”', 'he', 'told', 'Forbes', '.', 'Image', ':', 'Flickr', ',', 'TechCrunch', '5', '.', 'Sean', 'Parker', 'In', 'a', 'lengthy', 'article', 'for', 'TechCrunch', ',', 'Sean', 'Parker', '(', 'former', 'president', 'of', 'Facebook', 'and', 'founder', 'of', 'Napster', ')', 'communicated', 'his', 'dislike', 'for', 'the', 'social', 'media', 'movement', '.', '(', 'According', 'to', 'Parker', ',', 'the', 'press', 'relentlessly', 'covered', 'his', 'wedding', 'to', 'Alexandra', 'Lens', ',', 'due', 'to', 'its', 'hefty', 'price', 'tag', 'and', 'lavish', 'decor', '.', ')', 'Though', 'he', 'mainly', 'directed', 'his', 'article', 'toward', 'journalists', ',', 'Parker', 'shared', 'personal', 'opinions', 'about', 'the', 'world', 'of', 'oversharing', '.', 'While', 'he', 'doesn', '’', 't', 'anticipate', 'Facebook', 'will', 'sink', 'as', 'a', 'company', ',', 'he', 'believes', 'its', 'creation', 'prompted', 'a', 'seismic', 'shift', 'in', 'journalism', '.', 'He', 'says', 'people', '“', 'will', 'experience', 'a', 'violation', 'of', 'their', 'privacy', ',', 'will', 'find', 'their', 'reputation', 'besmirched', 'publicly', ',', 'and', 'may', 'even', 'find', 'their', 'sanity', 'challenged', '.', \"''\", '``', 'By', 'some', 'process', 'of', 'karmic', 'retribution', ',', 'the', 'mediums', 'I', 'dedicated', 'my', 'life', 'to', 'building', 'have', 'all', 'too', 'often', 'become', 'the', 'very', 'weapon', 'by', 'which', 'my', 'own', 'character', 'and', 'reputation', 'has', 'been', 'mercilessly', 'attacked', 'in', 'public', ',', '”', 'he', 'wrote', '.', 'Image', ':', 'Flickr', ',', 'Andrew', 'Mager', '6', '.', 'Alexis', 'Ohanian', 'Reddit', 'cofounder', 'Alex', 'Ohanian', 'had', 'some', 'very', 'strong', 'words', 'about', 'Facebook', \"'s\", 'IPO', ':', \"''\", 'If', 'Facebook', 'continues', 'to', 'make', 'bad', 'decisions', 'about', 'user', 'experience', '—', 'about', 'disrespecting', 'privacy', '—', 'you', 'have', 'the', 'potential', 'for', 'this', 'to', 'become', 'something', 'like', 'the', 'social', 'networking', 'fads', 'of', 'yesteryear', ',', \"''\", 'Ohanian', 'told', 'Shira', 'Lazar', '.', '``', 'The', 'value', 'of', 'a', 'site', 'that', 'is', 'community-driven', 'is', 'in', 'the', 'community', '.', '...', 'My', 'concern', 'is', ',', 'if', 'Facebook', 'continues', 'to', 'make', 'bad', 'decisions', 'for', 'the', 'community', ',', 'those', 'could', 'mean', 'bad', 'things', 'for', 'the', 'business', '.', \"''\", 'Image', ':', 'Flickr', ',', 'Ketchum', 'PR', '7', '.', 'Aaron', 'Sorkin', 'Famed', 'Hollywood', 'writer', 'Aaron', 'Sorkin', 'nabbed', 'his', 'first', 'Academy', 'Award', 'for', 'penning', 'The', 'Social', 'Network', 'script', ',', 'a', 'dramatization', 'about', 'the', 'founding', 'of', 'Facebook', '.', 'While', 'promoting', 'the', 'film', 'on', 'talk', 'show', 'The', 'View', ',', 'he', 'said', ',', '``', 'It', '’', 's', 'a', 'device', 'that', '’', 's', 'meant', 'to', 'connect', 'us', ',', 'to', 'bring', 'us', 'closer', 'together', '.', 'I', 'think', ',', 'and', 'I', 'know', 'I', '’', 'm', 'in', 'the', 'minority', ',', 'at', 'minimum', 'there', 'are', '500', 'million', 'people', 'who', 'disagree', 'with', 'me', ',', 'I', 'think', 'it', '’', 's', 'pushing', 'us', 'further', 'apart…I', 'think', 'socializing', 'on', 'the', 'Internet', 'is', 'to', 'socializing', 'what', 'reality', 'TV', 'is', 'to', 'reality.', '”', 'While', 'he', 'admitted', 'it', 'could', 'positively', 'impact', 'people', \"'s\", 'lives', ',', 'he', 'did', \"n't\", 'relent', 'on', 'the', 'wider', 'negative', 'effect', '.', 'Image', ':', 'ABC/The', 'View', '8', '.', 'Mark', 'Zuckerberg', 'Back', 'in', 'the', 'site', \"'s\", 'early', 'days', ',', 'Facebook', 'was', 'a', 'fledgling', 'startup', 'that', 'catered', 'to', 'college', 'kids', 'on', 'a', 'handful', 'of', 'campuses', '.', 'In', 'a', '2005', 'interview', ',', 'then', '21-year-old', 'Mark', 'Zuckerberg', 'was', 'asked', 'about', 'the', 'future', 'of', 'Facebook', ',', 'but', 'struggled', 'to', 'see', 'how', 'it', 'could', 'get', 'any', 'bigger', '.', '``', 'There', 'does', \"n't\", 'necessarily', 'have', 'to', 'be', 'more', ',', \"''\", 'he', 'said', '.', '``', 'There', 'is', 'a', 'level', 'of', 'service', 'that', 'we', 'could', 'provide', 'when', 'we', 'were', 'just', 'at', 'Harvard', 'that', 'we', 'ca', \"n't\", 'provide', 'for', 'all', 'of', 'the', 'colleges', ',', 'and', 'there', \"'s\", 'a', 'level', 'of', 'service', 'that', 'we', 'can', 'provide', 'when', 'we', \"'re\", 'a', 'college', 'network', 'that', 'we', 'would', \"n't\", 'be', 'able', 'to', 'provide', 'if', 'we', 'went', 'to', 'other', 'types', 'of', 'things', '.', \"''\", 'Oh', ',', 'to', 'be', 'young', 'and', 'unaware', 'that', 'you', \"'re\", 'about', 'to', 'be', 'a', 'billionaire', '.', 'Video', ':', 'YouTube', ',', 'Derek', 'Franzese']\n"
     ]
    }
   ],
   "source": [
    "print(\"Vocabulary size: {}\".format(len(tokens)))\n",
    "print(\"Vocabulary content:\\n {}\".format(tokens))"
   ]
  },
  {
   "cell_type": "code",
   "execution_count": 82,
   "metadata": {},
   "outputs": [
    {
     "name": "stdout",
     "output_type": "stream",
     "text": [
      "['i', 'me', 'my', 'myself', 'we', 'our', 'ours', 'ourselves', 'you', 'your', 'yours', 'yourself', 'yourselves', 'he', 'him', 'his', 'himself', 'she', 'her', 'hers', 'herself', 'it', 'its', 'itself', 'they', 'them', 'their', 'theirs', 'themselves', 'what', 'which', 'who', 'whom', 'this', 'that', 'these', 'those', 'am', 'is', 'are', 'was', 'were', 'be', 'been', 'being', 'have', 'has', 'had', 'having', 'do', 'does', 'did', 'doing', 'a', 'an', 'the', 'and', 'but', 'if', 'or', 'because', 'as', 'until', 'while', 'of', 'at', 'by', 'for', 'with', 'about', 'against', 'between', 'into', 'through', 'during', 'before', 'after', 'above', 'below', 'to', 'from', 'up', 'down', 'in', 'out', 'on', 'off', 'over', 'under', 'again', 'further', 'then', 'once', 'here', 'there', 'when', 'where', 'why', 'how', 'all', 'any', 'both', 'each', 'few', 'more', 'most', 'other', 'some', 'such', 'no', 'nor', 'not', 'only', 'own', 'same', 'so', 'than', 'too', 'very', 's', 't', 'can', 'will', 'just', 'don', 'should', 'now', 'd', 'll', 'm', 'o', 're', 've', 'y', 'ain', 'aren', 'couldn', 'didn', 'doesn', 'hadn', 'hasn', 'haven', 'isn', 'ma', 'mightn', 'mustn', 'needn', 'shan', 'shouldn', 'wasn', 'weren', 'won', 'wouldn']\n"
     ]
    }
   ],
   "source": [
    "from nltk.corpus import stopwords\n",
    "stop_words = stopwords.words('english')\n",
    "print(stop_words)"
   ]
  },
  {
   "cell_type": "code",
   "execution_count": 83,
   "metadata": {},
   "outputs": [
    {
     "ename": "SyntaxError",
     "evalue": "can't assign to operator (<ipython-input-83-f721ab32bd33>, line 14)",
     "output_type": "error",
     "traceback": [
      "\u001b[1;36m  File \u001b[1;32m\"<ipython-input-83-f721ab32bd33>\"\u001b[1;36m, line \u001b[1;32m14\u001b[0m\n\u001b[1;33m    non-stopwords = [w for w in non-stopwords if not w in stop_words]\u001b[0m\n\u001b[1;37m                                                                     ^\u001b[0m\n\u001b[1;31mSyntaxError\u001b[0m\u001b[1;31m:\u001b[0m can't assign to operator\n"
     ]
    }
   ],
   "source": [
    "# load data\n",
    "filename = 'C:/Users/Kapila/Desktop/Macquarie coursework/COMP777 Computing Methods of Research/webscrapping/magicwand.txt'\n",
    "file = open(filename, 'rt')\n",
    "text = file.read()\n",
    "file.close()\n",
    "# split into words\n",
    "from nltk.tokenize import word_tokenize\n",
    "tokens = word_tokenize(text)\n",
    "\n",
    "# filter out stop words\n",
    "from nltk.corpus import stopwords\n",
    "stop_words = set(stopwords.words('english'))\n",
    "\n",
    "non-stopwords = [w for w in non-stopwords if not w in stop_words]\n",
    "print(non-stopwords)"
   ]
  },
  {
   "cell_type": "code",
   "execution_count": null,
   "metadata": {
    "collapsed": true
   },
   "outputs": [],
   "source": [
    "print(\"Vocabulary size: {}\".format(len(words)))\n",
    "print(\"Vocabulary content:\\n {}\".format(words))"
   ]
  },
  {
   "cell_type": "code",
   "execution_count": 84,
   "metadata": {},
   "outputs": [
    {
     "name": "stdout",
     "output_type": "stream",
     "text": [
      "Vocabulary size: 1435\n",
      "Vocabulary content:\n",
      " ['It', \"'s\", 'the', 'first', 'thing', 'you', 'see', 'when', 'entering', 'Facebook', \"'s\", 'campus', 'in', 'Menlo', 'Park', ',', 'Calif', ',', 'and', 'without', 'a', 'doubt', 'the', 'image', 'most', 'closely', 'associated', 'with', 'the', 'social', 'network', '.', 'The', 'Facebook', 'Like', 'icon', ',', 'with', 'its', 'iconic', 'thumbs', 'up', 'design', ',', 'launched', 'in', 'early', '2009', '.', 'The', 'following', 'year', ',', 'Facebook', 'launched', 'the', 'Like', 'button', 'for', 'other', 'websites', '.', 'By', 'the', 'end', 'of', 'last', 'year', ',', 'Facebook', \"'s\", 'Like', 'and', 'Share', 'buttons', 'were', 'being', 'viewed', 'more', 'than', '22', 'billion', 'times', 'a', 'day', '.', 'See', 'also', ':', \"'It\", 'Was', 'Just', 'the', 'Dumbest', 'Luck', \"'\", '—', 'Facebook', \"'s\", 'First', 'Employees', 'Look', 'Back', \"''\", 'We', 'did', \"n't\", 'anticipate', 'that', 'it', 'was', 'going', 'to', 'be', 'such', 'a', 'cultural', 'icon', ',', \"''\", 'Soleio', 'Cuervo', ',', 'an', 'Facebook', 'product', 'designer', 'behind', 'the', 'Like', 'icon', ',', 'told', 'Mashable', 'in', 'an', 'interview', 'for', 'a', 'longer', 'piece', 'looking', 'back', 'at', 'the', 'social', 'network', 'on', 'its', '10th', 'anniversary', '.', 'As', 'it', 'turns', 'out', ',', 'the', 'Facebook', 'team', 'debated', 'a', 'number', 'of', 'other', 'designs', 'for', 'the', 'Like', 'button', 'before', 'settling', 'on', 'the', 'one', 'so', 'many', 'recognize', 'today', '.', '``', 'We', 'had', 'a', 'green', 'thumbs', 'up', '.', 'We', 'had', 'a', 'heart', '.', 'We', 'explored', 'stars', ',', \"''\", 'he', 'says', '.', '``', 'But', 'they', 'were', 'all', 'just', 'sort', 'of', 'generic', '.', \"''\", 'Cuervo', 'had', 'decided', 'he', 'wanted', 'to', 'use', 'a', 'hand', 'gesture', 'to', 'make', 'the', 'Like', 'function', 'to', '``', 'differentiate', \"''\", 'it', 'from', '``', 'its', 'counterpoints', 'on', 'other', 'services', ',', \"''\", 'but', 'that', 'led', 'to', 'one', 'notable', 'complication', ':', 'In', 'some', 'regions', ',', 'a', 'thumbs-up', 'gesture', 'is', 'viewed', 'as', 'an', 'insult', '.', '``', 'There', 'was', 'discussion', 'about', 'localizing', 'it', 'because', 'a', 'thumbs', 'up', 'in', 'other', 'cultures', 'is', 'a', 'profanity', ',', \"''\", 'Cuervo', 'says', '.', '``', 'I', 'dug', 'in', 'my', 'heals', 'on', 'that', '.', 'That', 'is', 'a', 'way', 'to', 'demonstrate', 'that', 'Facebook', 'is', 'here', 'to', 'stay', '.', \"''\", 'Cuervo', 'won', 'out', '.', 'The', 'thumbs', 'up', 'icon', 'still', 'exists', 'on', 'the', 'social', 'network', ',', 'although', 'three', 'and', 'a', 'half', 'years', 'later', ',', 'Facebook', 'decided', 'to', 'ditch', 'the', 'symbol', 'on', 'the', 'Like', 'button', 'in', 'favor', 'of', 'a', 'more', 'generic', '``', 'F', \"''\", 'logo', '.', 'By', 'that', 'time', ',', 'Cuervo', 'had', 'already', 'left', 'Facebook', 'and', 'joined', 'Dropbox', '.', 'Even', 'though', 'he', \"'s\", 'no', 'longer', 'with', 'the', 'company', 'and', 'the', 'button', \"'s\", 'design', 'has', 'changed', ',', 'he', 'says', 'some', 'still', 'associate', 'him', 'with', 'the', 'thumbs', 'up', '.', '``', 'My', 'little', 'brother', 'is', 'great', 'at', 'kicking', 'me', 'down', 'a', 'notch', ',', 'keeping', 'me', 'humble', ',', \"''\", 'Cuervo', 'says', '.', '``', 'He', 'says', ',', \"'You\", \"'re\", 'the', 'biggest', 'one-hit', 'wonder', 'of', 'all-time', '.', 'You', \"'re\", 'Thumbs', 'Up', 'Guy', '.', \"'\", \"''\", 'On', 'a', 'serious', 'note', ',', 'he', 'shrugs', 'off', 'credit', 'for', 'making', 'the', 'original', 'Like', 'button', \"'s\", 'design', 'iconic', '.', '``', 'The', 'reason', 'why', 'the', 'Like', 'button', 'is', 'so', 'iconic', 'is', 'not', 'because', 'of', 'the', 'work', 'I', 'did', ',', \"''\", 'he', 'says', '.', '``', 'It', \"'s\", 'a', 'testament', 'to', 'the', 'company', \"'s\", 'success', '.', \"''\", 'BONUS', ':', '8', 'Facebook', 'Cynics', 'Who', 'Doubted', 'the', 'Company', \"'s\", 'Direction', '8', 'People', 'Who', 'Doubted', 'Facebook', '1', '.', 'Vint', 'Cerf', 'The', 'Google', 'vice', 'president', 'and', 'chief', 'evangelist', 'said', 'in', '2011', 'that', 'Facebook', 'would', 'go', 'the', 'way', 'of', 'AOL', '.', 'Yup', ',', 'the', 'man', 'nicknamed', 'the', '“', 'Father', 'of', 'the', 'Internet', '”', 'said', 'the', 'site', 'was', 'becoming', 'a', '“', 'closed', 'walled', 'garden', '”', 'and', 'would', 'fail', 'to', 'keep', 'up', 'with', 'audiences', '.', 'Image', ':', 'Flickr', ',', 'Joi', 'Ito', '2', '.', 'Warren', 'Buffett', 'When', 'Facebook', 'held', 'its', 'IPO', 'in', '2012', ',', 'record', 'numbers', 'lined', 'up', 'to', 'buy', 'in', 'to', 'the', 'social', 'media', 'giant', '–', 'but', 'Warren', 'Buffett', 'wasn', '’', 't', 'one', 'of', 'them', '.', 'The', 'billionaire', 'and', 'his', 'business', 'partner', ',', 'Charlie', 'Munger', ',', 'avoided', 'it', ',', 'and', 'actually', 'advised', 'people', 'against', 'the', 'decision', '.', 'Buffett', 'didn', '’', 't', 'deny', 'that', 'Facebook', 'could', 'have', 'a', 'brilliant', 'future', ',', 'but', 'admitted', ',', '“', 'I', 'just', 'don', '’', 't', 'know', '.', \"''\", 'During', 'an', 'interview', 'with', 'CNBC', ',', 'he', 'said', ',', '``', 'I', \"'m\", 'an', 'agnostic', 'on', 'a', 'company', 'like', 'Facebook', '...', 'it', \"'s\", 'obviously', 'an', 'extraordinary', 'business', ',', 'but', 'they', \"'re\", 'the', 'hardest', 'ones', 'to', 'value', ',', 'because', 'the', 'question', 'is', 'whether', 'five', 'or', '10', 'years', 'from', 'now', 'that', 'they', 'will', 'be', 'as', 'extraordinary', 'as', 'they', 'are', 'now', '.', \"''\", 'Video', ':', 'YouTube', ',', 'WarrenBuffettBlog', '3', '.', 'Charlie', 'Munger', 'Munger', ',', 'on', 'the', 'other', 'hand', ',', 'was', 'a', 'bit', 'more', 'acidic', 'in', 'an', 'interview', 'with', 'CNN', '.', '“', 'I', 'do', \"n't\", 'invest', 'in', 'what', 'I', 'do', \"n't\", 'understand', '.', 'And', 'I', 'do', \"n't\", 'want', 'to', 'understand', 'Facebook', ',', \"''\", 'Munger', 'said', '.', '``', 'I', 'do', \"n't\", 'want', 'people', 'putting', 'all', 'this', 'personal', 'stuff', 'into', 'a', 'permanent', 'record', 'when', 'they', 'are', '15', 'years', 'of', 'age', '.', 'I', 'think', 'it', \"'s\", 'counterproductive…I', 'just', 'basically', 'do', \"n't\", 'like', 'it', '.', \"''\", 'Image', ':', 'Flickr', ',', 'Nick', 'Webb', '4', '.', 'Evan', 'Spiegel', 'An', 'air', 'of', 'drama', 'has', 'always', 'surrounded', 'the', 'Snapchat', 'CEO', '.', 'Zuckerberg', 'sensed', 'Snapchat', \"'s\", 'potential', ',', 'however', ',', 'and', 'offered', 'to', 'buy', 'the', 'company', 'for', '$', '3', 'billion', 'cash', '.', 'Spiegel', 'refused', 'the', 'offer', '.', '“', 'I', 'think', 'trading', 'that', 'for', 'some', 'short-term', 'gain', 'isn', '’', 't', 'very', 'interesting', ',', '”', 'he', 'told', 'Forbes', '.', 'Image', ':', 'Flickr', ',', 'TechCrunch', '5', '.', 'Sean', 'Parker', 'In', 'a', 'lengthy', 'article', 'for', 'TechCrunch', ',', 'Sean', 'Parker', '(', 'former', 'president', 'of', 'Facebook', 'and', 'founder', 'of', 'Napster', ')', 'communicated', 'his', 'dislike', 'for', 'the', 'social', 'media', 'movement', '.', '(', 'According', 'to', 'Parker', ',', 'the', 'press', 'relentlessly', 'covered', 'his', 'wedding', 'to', 'Alexandra', 'Lens', ',', 'due', 'to', 'its', 'hefty', 'price', 'tag', 'and', 'lavish', 'decor', '.', ')', 'Though', 'he', 'mainly', 'directed', 'his', 'article', 'toward', 'journalists', ',', 'Parker', 'shared', 'personal', 'opinions', 'about', 'the', 'world', 'of', 'oversharing', '.', 'While', 'he', 'doesn', '’', 't', 'anticipate', 'Facebook', 'will', 'sink', 'as', 'a', 'company', ',', 'he', 'believes', 'its', 'creation', 'prompted', 'a', 'seismic', 'shift', 'in', 'journalism', '.', 'He', 'says', 'people', '“', 'will', 'experience', 'a', 'violation', 'of', 'their', 'privacy', ',', 'will', 'find', 'their', 'reputation', 'besmirched', 'publicly', ',', 'and', 'may', 'even', 'find', 'their', 'sanity', 'challenged', '.', \"''\", '``', 'By', 'some', 'process', 'of', 'karmic', 'retribution', ',', 'the', 'mediums', 'I', 'dedicated', 'my', 'life', 'to', 'building', 'have', 'all', 'too', 'often', 'become', 'the', 'very', 'weapon', 'by', 'which', 'my', 'own', 'character', 'and', 'reputation', 'has', 'been', 'mercilessly', 'attacked', 'in', 'public', ',', '”', 'he', 'wrote', '.', 'Image', ':', 'Flickr', ',', 'Andrew', 'Mager', '6', '.', 'Alexis', 'Ohanian', 'Reddit', 'cofounder', 'Alex', 'Ohanian', 'had', 'some', 'very', 'strong', 'words', 'about', 'Facebook', \"'s\", 'IPO', ':', \"''\", 'If', 'Facebook', 'continues', 'to', 'make', 'bad', 'decisions', 'about', 'user', 'experience', '—', 'about', 'disrespecting', 'privacy', '—', 'you', 'have', 'the', 'potential', 'for', 'this', 'to', 'become', 'something', 'like', 'the', 'social', 'networking', 'fads', 'of', 'yesteryear', ',', \"''\", 'Ohanian', 'told', 'Shira', 'Lazar', '.', '``', 'The', 'value', 'of', 'a', 'site', 'that', 'is', 'community-driven', 'is', 'in', 'the', 'community', '.', '...', 'My', 'concern', 'is', ',', 'if', 'Facebook', 'continues', 'to', 'make', 'bad', 'decisions', 'for', 'the', 'community', ',', 'those', 'could', 'mean', 'bad', 'things', 'for', 'the', 'business', '.', \"''\", 'Image', ':', 'Flickr', ',', 'Ketchum', 'PR', '7', '.', 'Aaron', 'Sorkin', 'Famed', 'Hollywood', 'writer', 'Aaron', 'Sorkin', 'nabbed', 'his', 'first', 'Academy', 'Award', 'for', 'penning', 'The', 'Social', 'Network', 'script', ',', 'a', 'dramatization', 'about', 'the', 'founding', 'of', 'Facebook', '.', 'While', 'promoting', 'the', 'film', 'on', 'talk', 'show', 'The', 'View', ',', 'he', 'said', ',', '``', 'It', '’', 's', 'a', 'device', 'that', '’', 's', 'meant', 'to', 'connect', 'us', ',', 'to', 'bring', 'us', 'closer', 'together', '.', 'I', 'think', ',', 'and', 'I', 'know', 'I', '’', 'm', 'in', 'the', 'minority', ',', 'at', 'minimum', 'there', 'are', '500', 'million', 'people', 'who', 'disagree', 'with', 'me', ',', 'I', 'think', 'it', '’', 's', 'pushing', 'us', 'further', 'apart…I', 'think', 'socializing', 'on', 'the', 'Internet', 'is', 'to', 'socializing', 'what', 'reality', 'TV', 'is', 'to', 'reality.', '”', 'While', 'he', 'admitted', 'it', 'could', 'positively', 'impact', 'people', \"'s\", 'lives', ',', 'he', 'did', \"n't\", 'relent', 'on', 'the', 'wider', 'negative', 'effect', '.', 'Image', ':', 'ABC/The', 'View', '8', '.', 'Mark', 'Zuckerberg', 'Back', 'in', 'the', 'site', \"'s\", 'early', 'days', ',', 'Facebook', 'was', 'a', 'fledgling', 'startup', 'that', 'catered', 'to', 'college', 'kids', 'on', 'a', 'handful', 'of', 'campuses', '.', 'In', 'a', '2005', 'interview', ',', 'then', '21-year-old', 'Mark', 'Zuckerberg', 'was', 'asked', 'about', 'the', 'future', 'of', 'Facebook', ',', 'but', 'struggled', 'to', 'see', 'how', 'it', 'could', 'get', 'any', 'bigger', '.', '``', 'There', 'does', \"n't\", 'necessarily', 'have', 'to', 'be', 'more', ',', \"''\", 'he', 'said', '.', '``', 'There', 'is', 'a', 'level', 'of', 'service', 'that', 'we', 'could', 'provide', 'when', 'we', 'were', 'just', 'at', 'Harvard', 'that', 'we', 'ca', \"n't\", 'provide', 'for', 'all', 'of', 'the', 'colleges', ',', 'and', 'there', \"'s\", 'a', 'level', 'of', 'service', 'that', 'we', 'can', 'provide', 'when', 'we', \"'re\", 'a', 'college', 'network', 'that', 'we', 'would', \"n't\", 'be', 'able', 'to', 'provide', 'if', 'we', 'went', 'to', 'other', 'types', 'of', 'things', '.', \"''\", 'Oh', ',', 'to', 'be', 'young', 'and', 'unaware', 'that', 'you', \"'re\", 'about', 'to', 'be', 'a', 'billionaire', '.', 'Video', ':', 'YouTube', ',', 'Derek', 'Franzese']\n"
     ]
    }
   ],
   "source": [
    "print(\"Vocabulary size: {}\".format(len(tokens)))\n",
    "print(\"Vocabulary content:\\n {}\".format(tokens))"
   ]
  },
  {
   "cell_type": "code",
   "execution_count": 85,
   "metadata": {
    "collapsed": true
   },
   "outputs": [],
   "source": [
    " from nltk.corpus import stopwords\n",
    "from nltk.tokenize import RegexpTokenizer\n",
    " zen = \"\"\"\n",
    "  Glenn Greenwald's New Site Goes Live With NSA Allegations\n",
    "\n",
    "Glenn Greenwald's new site devoted to the security leaks of Edward Snowden and broader \"adversarial journalism\" has launched as The Intercept.\n",
    "The site is led by Greenwald and two other noted investigative journalists - Laura Poitras and Jeremy Scahill. Scahill takes the lead bylines with Greenwald on the site's first major story - an investigation of the NSA's role in locating targets for U.S. drone strikes.\n",
    "See also: 7 Landmark Tech Laws Passed in 2013\n",
    "In an initial post entitled \"Welcome to The Intercept,\" Greenwald, Poitras and Scahill lay out the editorial vision for the site. In the short term, The Intercept will \"provide a platform and an editorial structure in which to aggressively report on the disclosures provided to us by our source, NSA whistleblower Edward Snowden,\" they wrote in a blog post on the site.\n",
    "While the Snowden leak has already formed the basis of a large number of revelations about U.S. surveillance efforts, this may just be the tip of the iceberg. As more information about the leak comes to light, the scope of Snowden's theft has grown. Lawmakers recently claimed Snowden took about 1.7 million files.\n",
    "The broader vision for the site includes the type of investigative journalism for which Greenwald, Poitras and Scahill have become know.\n",
    "\"Our longer-term mission is to provide aggressive and independent adversarial journalism across a wide range of issues, from secrecy, criminal and civil justice abuses and civil liberties violations to media conduct, societal inequality and all forms of financial and political corruption,\" they wrote in a blog post.\n",
    "The Intercept is the first in a series of \"digital magazines\" that will be launched by Pierre Omidyar's First Look Media. Future sites will cover topics from sports and entertainment to business and politics.\n",
    "Greenwald left The Guardian in late 2013 to join the efforts of Omidyar, who founded eBay and has a net worth of $8.5 billion, according to Forbes.\n",
    "  \"\"\"\n",
    "\n",
    "# removes punctuation and returns list of words\n",
    "tokenizer = RegexpTokenizer(r'\\w+')\n",
    " zen_no_punc = tokenizer.tokenize(zen)"
   ]
  },
  {
   "cell_type": "code",
   "execution_count": 91,
   "metadata": {},
   "outputs": [
    {
     "name": "stdout",
     "output_type": "stream",
     "text": [
      "Vocabulary size: 337\n",
      "Vocabulary content:\n",
      " ['Glenn', 'Greenwald', 's', 'New', 'Site', 'Goes', 'Live', 'With', 'NSA', 'Allegations', 'Glenn', 'Greenwald', 's', 'new', 'site', 'devoted', 'to', 'the', 'security', 'leaks', 'of', 'Edward', 'Snowden', 'and', 'broader', 'adversarial', 'journalism', 'has', 'launched', 'as', 'The', 'Intercept', 'The', 'site', 'is', 'led', 'by', 'Greenwald', 'and', 'two', 'other', 'noted', 'investigative', 'journalists', 'Laura', 'Poitras', 'and', 'Jeremy', 'Scahill', 'Scahill', 'takes', 'the', 'lead', 'bylines', 'with', 'Greenwald', 'on', 'the', 'site', 's', 'first', 'major', 'story', 'an', 'investigation', 'of', 'the', 'NSA', 's', 'role', 'in', 'locating', 'targets', 'for', 'U', 'S', 'drone', 'strikes', 'See', 'also', '7', 'Landmark', 'Tech', 'Laws', 'Passed', 'in', '2013', 'In', 'an', 'initial', 'post', 'entitled', 'Welcome', 'to', 'The', 'Intercept', 'Greenwald', 'Poitras', 'and', 'Scahill', 'lay', 'out', 'the', 'editorial', 'vision', 'for', 'the', 'site', 'In', 'the', 'short', 'term', 'The', 'Intercept', 'will', 'provide', 'a', 'platform', 'and', 'an', 'editorial', 'structure', 'in', 'which', 'to', 'aggressively', 'report', 'on', 'the', 'disclosures', 'provided', 'to', 'us', 'by', 'our', 'source', 'NSA', 'whistleblower', 'Edward', 'Snowden', 'they', 'wrote', 'in', 'a', 'blog', 'post', 'on', 'the', 'site', 'While', 'the', 'Snowden', 'leak', 'has', 'already', 'formed', 'the', 'basis', 'of', 'a', 'large', 'number', 'of', 'revelations', 'about', 'U', 'S', 'surveillance', 'efforts', 'this', 'may', 'just', 'be', 'the', 'tip', 'of', 'the', 'iceberg', 'As', 'more', 'information', 'about', 'the', 'leak', 'comes', 'to', 'light', 'the', 'scope', 'of', 'Snowden', 's', 'theft', 'has', 'grown', 'Lawmakers', 'recently', 'claimed', 'Snowden', 'took', 'about', '1', '7', 'million', 'files', 'The', 'broader', 'vision', 'for', 'the', 'site', 'includes', 'the', 'type', 'of', 'investigative', 'journalism', 'for', 'which', 'Greenwald', 'Poitras', 'and', 'Scahill', 'have', 'become', 'know', 'Our', 'longer', 'term', 'mission', 'is', 'to', 'provide', 'aggressive', 'and', 'independent', 'adversarial', 'journalism', 'across', 'a', 'wide', 'range', 'of', 'issues', 'from', 'secrecy', 'criminal', 'and', 'civil', 'justice', 'abuses', 'and', 'civil', 'liberties', 'violations', 'to', 'media', 'conduct', 'societal', 'inequality', 'and', 'all', 'forms', 'of', 'financial', 'and', 'political', 'corruption', 'they', 'wrote', 'in', 'a', 'blog', 'post', 'The', 'Intercept', 'is', 'the', 'first', 'in', 'a', 'series', 'of', 'digital', 'magazines', 'that', 'will', 'be', 'launched', 'by', 'Pierre', 'Omidyar', 's', 'First', 'Look', 'Media', 'Future', 'sites', 'will', 'cover', 'topics', 'from', 'sports', 'and', 'entertainment', 'to', 'business', 'and', 'politics', 'Greenwald', 'left', 'The', 'Guardian', 'in', 'late', '2013', 'to', 'join', 'the', 'efforts', 'of', 'Omidyar', 'who', 'founded', 'eBay', 'and', 'has', 'a', 'net', 'worth', 'of', '8', '5', 'billion', 'according', 'to', 'Forbes']\n"
     ]
    }
   ],
   "source": [
    "\n",
    "print(\"Vocabulary size: {}\".format(len(zen_no_punc)))\n",
    "print(\"Vocabulary content:\\n {}\".format(zen_no_punc))"
   ]
  },
  {
   "cell_type": "code",
   "execution_count": 102,
   "metadata": {},
   "outputs": [
    {
     "name": "stdout",
     "output_type": "stream",
     "text": [
      "{'Includes', '8', 'Entitled', 'Pierre', 'Blog', 'Efforts', 'Topics', 'Future', 'Investigation', 'Wrote', 'Lead', 'Scope', 'Join', 'Took', 'Live', 'Report', 'Claimed', 'Criminal', 'Major', 'Aggressive', 'Corruption', 'Lawmakers', 'Aggressively', '1', 'Type', 'Independent', 'Left', 'Noted', 'Post', 'Cover', 'Led', 'Mission', 'Initial', 'Comes', 'Role', 'Site', 'Revelations', 'Provide', 'Lay', 'Strikes', 'Devoted', 'Sites', 'Whistleblower', 'With', 'Targets', 'Journalism', 'Platform', 'Across', 'Inequality', 'The', 'Allegations', 'May', 'Entertainment', 'Secrecy', 'Civil', 'Short', 'Ebay', 'Us', 'Adversarial', 'Drone', 'Broader', 'Investigative', 'Our', 'Liberties', 'Leaks', 'Jeremy', 'Editorial', 'Forms', 'Surveillance', 'Digital', 'Sports', 'Locating', 'Media', '5', 'New', 'Violations', 'Magazines', 'Financial', 'U', 'Vision', 'Look', 'Business', 'Goes', 'Founded', 'Large', 'Issues', '7', 'As', 'While', 'Poitras', 'Theft', 'Tech', 'Scahill', 'According', 'Provided', 'In', 'Formed', 'Light', 'Journalists', 'Story', 'Takes', 'Iceberg', 'Nsa', 'Series', 'Million', 'Edward', 'Late', '2013', 'Two', 'Structure', 'Greenwald', 'S', 'Basis', 'Term', 'Range', 'Longer', 'Passed', 'Become', 'Landmark', 'Launched', 'Disclosures', 'Files', 'Political', 'Leak', 'Welcome', 'Know', 'Politics', 'Source', 'Security', 'See', 'Wide', 'Net', 'Intercept', 'Bylines', 'Billion', 'Laura', 'Societal', 'First', 'Justice', 'Glenn', 'Already', 'Snowden', 'Laws', 'Recently', 'Number', 'Abuses', 'Tip', 'Worth', 'Information', 'Grown', 'Conduct', 'Guardian', 'Forbes', 'Omidyar'}\n"
     ]
    }
   ],
   "source": [
    "c=set(w.title() for w in zen_no_punc if w not in stopwords.words())\n",
    "print(c)"
   ]
  },
  {
   "cell_type": "code",
   "execution_count": 103,
   "metadata": {},
   "outputs": [
    {
     "name": "stdout",
     "output_type": "stream",
     "text": [
      "Vocabulary size: 154\n",
      "Vocabulary content:\n",
      " {'Includes', '8', 'Entitled', 'Pierre', 'Blog', 'Efforts', 'Topics', 'Future', 'Investigation', 'Wrote', 'Lead', 'Scope', 'Join', 'Took', 'Live', 'Report', 'Claimed', 'Criminal', 'Major', 'Aggressive', 'Corruption', 'Lawmakers', 'Aggressively', '1', 'Type', 'Independent', 'Left', 'Noted', 'Post', 'Cover', 'Led', 'Mission', 'Initial', 'Comes', 'Role', 'Site', 'Revelations', 'Provide', 'Lay', 'Strikes', 'Devoted', 'Sites', 'Whistleblower', 'With', 'Targets', 'Journalism', 'Platform', 'Across', 'Inequality', 'The', 'Allegations', 'May', 'Entertainment', 'Secrecy', 'Civil', 'Short', 'Ebay', 'Us', 'Adversarial', 'Drone', 'Broader', 'Investigative', 'Our', 'Liberties', 'Leaks', 'Jeremy', 'Editorial', 'Forms', 'Surveillance', 'Digital', 'Sports', 'Locating', 'Media', '5', 'New', 'Violations', 'Magazines', 'Financial', 'U', 'Vision', 'Look', 'Business', 'Goes', 'Founded', 'Large', 'Issues', '7', 'As', 'While', 'Poitras', 'Theft', 'Tech', 'Scahill', 'According', 'Provided', 'In', 'Formed', 'Light', 'Journalists', 'Story', 'Takes', 'Iceberg', 'Nsa', 'Series', 'Million', 'Edward', 'Late', '2013', 'Two', 'Structure', 'Greenwald', 'S', 'Basis', 'Term', 'Range', 'Longer', 'Passed', 'Become', 'Landmark', 'Launched', 'Disclosures', 'Files', 'Political', 'Leak', 'Welcome', 'Know', 'Politics', 'Source', 'Security', 'See', 'Wide', 'Net', 'Intercept', 'Bylines', 'Billion', 'Laura', 'Societal', 'First', 'Justice', 'Glenn', 'Already', 'Snowden', 'Laws', 'Recently', 'Number', 'Abuses', 'Tip', 'Worth', 'Information', 'Grown', 'Conduct', 'Guardian', 'Forbes', 'Omidyar'}\n"
     ]
    }
   ],
   "source": [
    "print(\"Vocabulary size: {}\".format(len(c)))\n",
    "print(\"Vocabulary content:\\n {}\".format(c))"
   ]
  },
  {
   "cell_type": "code",
   "execution_count": 100,
   "metadata": {},
   "outputs": [
    {
     "data": {
      "text/plain": [
       "['i',\n",
       " 'me',\n",
       " 'my',\n",
       " 'myself',\n",
       " 'we',\n",
       " 'our',\n",
       " 'ours',\n",
       " 'ourselves',\n",
       " 'you',\n",
       " 'your',\n",
       " 'yours',\n",
       " 'yourself',\n",
       " 'yourselves',\n",
       " 'he',\n",
       " 'him',\n",
       " 'his',\n",
       " 'himself',\n",
       " 'she',\n",
       " 'her',\n",
       " 'hers',\n",
       " 'herself',\n",
       " 'it',\n",
       " 'its',\n",
       " 'itself',\n",
       " 'they',\n",
       " 'them',\n",
       " 'their',\n",
       " 'theirs',\n",
       " 'themselves',\n",
       " 'what',\n",
       " 'which',\n",
       " 'who',\n",
       " 'whom',\n",
       " 'this',\n",
       " 'that',\n",
       " 'these',\n",
       " 'those',\n",
       " 'am',\n",
       " 'is',\n",
       " 'are',\n",
       " 'was',\n",
       " 'were',\n",
       " 'be',\n",
       " 'been',\n",
       " 'being',\n",
       " 'have',\n",
       " 'has',\n",
       " 'had',\n",
       " 'having',\n",
       " 'do',\n",
       " 'does',\n",
       " 'did',\n",
       " 'doing',\n",
       " 'a',\n",
       " 'an',\n",
       " 'the',\n",
       " 'and',\n",
       " 'but',\n",
       " 'if',\n",
       " 'or',\n",
       " 'because',\n",
       " 'as',\n",
       " 'until',\n",
       " 'while',\n",
       " 'of',\n",
       " 'at',\n",
       " 'by',\n",
       " 'for',\n",
       " 'with',\n",
       " 'about',\n",
       " 'against',\n",
       " 'between',\n",
       " 'into',\n",
       " 'through',\n",
       " 'during',\n",
       " 'before',\n",
       " 'after',\n",
       " 'above',\n",
       " 'below',\n",
       " 'to',\n",
       " 'from',\n",
       " 'up',\n",
       " 'down',\n",
       " 'in',\n",
       " 'out',\n",
       " 'on',\n",
       " 'off',\n",
       " 'over',\n",
       " 'under',\n",
       " 'again',\n",
       " 'further',\n",
       " 'then',\n",
       " 'once',\n",
       " 'here',\n",
       " 'there',\n",
       " 'when',\n",
       " 'where',\n",
       " 'why',\n",
       " 'how',\n",
       " 'all',\n",
       " 'any',\n",
       " 'both',\n",
       " 'each',\n",
       " 'few',\n",
       " 'more',\n",
       " 'most',\n",
       " 'other',\n",
       " 'some',\n",
       " 'such',\n",
       " 'no',\n",
       " 'nor',\n",
       " 'not',\n",
       " 'only',\n",
       " 'own',\n",
       " 'same',\n",
       " 'so',\n",
       " 'than',\n",
       " 'too',\n",
       " 'very',\n",
       " 's',\n",
       " 't',\n",
       " 'can',\n",
       " 'will',\n",
       " 'just',\n",
       " 'don',\n",
       " 'should',\n",
       " 'now',\n",
       " 'd',\n",
       " 'll',\n",
       " 'm',\n",
       " 'o',\n",
       " 're',\n",
       " 've',\n",
       " 'y',\n",
       " 'ain',\n",
       " 'aren',\n",
       " 'couldn',\n",
       " 'didn',\n",
       " 'doesn',\n",
       " 'hadn',\n",
       " 'hasn',\n",
       " 'haven',\n",
       " 'isn',\n",
       " 'ma',\n",
       " 'mightn',\n",
       " 'mustn',\n",
       " 'needn',\n",
       " 'shan',\n",
       " 'shouldn',\n",
       " 'wasn',\n",
       " 'weren',\n",
       " 'won',\n",
       " 'wouldn']"
      ]
     },
     "execution_count": 100,
     "metadata": {},
     "output_type": "execute_result"
    }
   ],
   "source": [
    "stopwords.words('english')"
   ]
  },
  {
   "cell_type": "code",
   "execution_count": 105,
   "metadata": {},
   "outputs": [
    {
     "name": "stdout",
     "output_type": "stream",
     "text": [
      "['Glenn', 'Greenwald', \"'s\", 'New', 'Site', 'Goes', 'Live', 'With', 'NSA', 'Allegations', 'Glenn', 'Greenwald', \"'s\", 'new', 'site', 'devoted', 'to', 'the', 'security', 'leaks', 'of', 'Edward', 'Snowden', 'and', 'broader', '``', 'adversarial', 'journalism', \"''\", 'has', 'launched', 'as', 'The', 'Intercept', '.', 'The', 'site', 'is', 'led', 'by', 'Greenwald', 'and', 'two', 'other', 'noted', 'investigative', 'journalists', '-', 'Laura', 'Poitras', 'and', 'Jeremy', 'Scahill', '.', 'Scahill', 'takes', 'the', 'lead', 'bylines', 'with', 'Greenwald', 'on', 'the', 'site', \"'s\", 'first', 'major', 'story', '-', 'an', 'investigation', 'of', 'the', 'NSA', \"'s\", 'role', 'in', 'locating', 'targets', 'for', 'U.S.', 'drone', 'strikes', '.', 'See', 'also', ':', '7', 'Landmark', 'Tech', 'Laws', 'Passed', 'in', '2013', 'In', 'an', 'initial', 'post', 'entitled', '``', 'Welcome', 'to', 'The', 'Intercept', ',', \"''\", 'Greenwald', ',', 'Poitras', 'and', 'Scahill', 'lay', 'out', 'the', 'editorial', 'vision', 'for', 'the', 'site', '.', 'In', 'the', 'short', 'term', ',', 'The', 'Intercept', 'will', '``', 'provide', 'a', 'platform', 'and', 'an', 'editorial', 'structure', 'in', 'which', 'to', 'aggressively', 'report', 'on', 'the', 'disclosures', 'provided', 'to', 'us', 'by', 'our', 'source', ',', 'NSA', 'whistleblower', 'Edward', 'Snowden', ',', \"''\", 'they', 'wrote', 'in', 'a', 'blog', 'post', 'on', 'the', 'site', '.', 'While', 'the', 'Snowden', 'leak', 'has', 'already', 'formed', 'the', 'basis', 'of', 'a', 'large', 'number', 'of', 'revelations', 'about', 'U.S.', 'surveillance', 'efforts', ',', 'this', 'may', 'just', 'be', 'the', 'tip', 'of', 'the', 'iceberg', '.', 'As', 'more', 'information', 'about', 'the', 'leak', 'comes', 'to', 'light', ',', 'the', 'scope', 'of', 'Snowden', \"'s\", 'theft', 'has', 'grown', '.', 'Lawmakers', 'recently', 'claimed', 'Snowden', 'took', 'about', '1.7', 'million', 'files', '.', 'The', 'broader', 'vision', 'for', 'the', 'site', 'includes', 'the', 'type', 'of', 'investigative', 'journalism', 'for', 'which', 'Greenwald', ',', 'Poitras', 'and', 'Scahill', 'have', 'become', 'know', '.', '``', 'Our', 'longer-term', 'mission', 'is', 'to', 'provide', 'aggressive', 'and', 'independent', 'adversarial', 'journalism', 'across', 'a', 'wide', 'range', 'of', 'issues', ',', 'from', 'secrecy', ',', 'criminal', 'and', 'civil', 'justice', 'abuses', 'and', 'civil', 'liberties', 'violations', 'to', 'media', 'conduct', ',', 'societal', 'inequality', 'and', 'all', 'forms', 'of', 'financial', 'and', 'political', 'corruption', ',', \"''\", 'they', 'wrote', 'in', 'a', 'blog', 'post', '.', 'The', 'Intercept', 'is', 'the', 'first', 'in', 'a', 'series', 'of', '``', 'digital', 'magazines', \"''\", 'that', 'will', 'be', 'launched', 'by', 'Pierre', 'Omidyar', \"'s\", 'First', 'Look', 'Media', '.', 'Future', 'sites', 'will', 'cover', 'topics', 'from', 'sports', 'and', 'entertainment', 'to', 'business', 'and', 'politics', '.', 'Greenwald', 'left', 'The', 'Guardian', 'in', 'late', '2013', 'to', 'join', 'the', 'efforts', 'of', 'Omidyar', ',', 'who', 'founded', 'eBay', 'and', 'has', 'a', 'net', 'worth', 'of', '$', '8.5', 'billion', ',', 'according', 'to', 'Forbes', '.']\n",
      "['Glenn', 'Greenwald', \"'s\", 'New', 'Site', 'Goes', 'Live', 'With', 'NSA', 'Allegations', 'Glenn', 'Greenwald', \"'s\", 'new', 'site', 'devoted', 'security', 'leaks', 'Edward', 'Snowden', 'broader', '``', 'adversarial', 'journalism', \"''\", 'launched', 'The', 'Intercept', '.', 'The', 'site', 'led', 'Greenwald', 'two', 'noted', 'investigative', 'journalists', '-', 'Laura', 'Poitras', 'Jeremy', 'Scahill', '.', 'Scahill', 'takes', 'lead', 'bylines', 'Greenwald', 'site', \"'s\", 'first', 'major', 'story', '-', 'investigation', 'NSA', \"'s\", 'role', 'locating', 'targets', 'U.S.', 'drone', 'strikes', '.', 'See', 'also', ':', '7', 'Landmark', 'Tech', 'Laws', 'Passed', '2013', 'In', 'initial', 'post', 'entitled', '``', 'Welcome', 'The', 'Intercept', ',', \"''\", 'Greenwald', ',', 'Poitras', 'Scahill', 'lay', 'editorial', 'vision', 'site', '.', 'In', 'short', 'term', ',', 'The', 'Intercept', '``', 'provide', 'platform', 'editorial', 'structure', 'aggressively', 'report', 'disclosures', 'provided', 'us', 'source', ',', 'NSA', 'whistleblower', 'Edward', 'Snowden', ',', \"''\", 'wrote', 'blog', 'post', 'site', '.', 'While', 'Snowden', 'leak', 'already', 'formed', 'basis', 'large', 'number', 'revelations', 'U.S.', 'surveillance', 'efforts', ',', 'may', 'tip', 'iceberg', '.', 'As', 'information', 'leak', 'comes', 'light', ',', 'scope', 'Snowden', \"'s\", 'theft', 'grown', '.', 'Lawmakers', 'recently', 'claimed', 'Snowden', 'took', '1.7', 'million', 'files', '.', 'The', 'broader', 'vision', 'site', 'includes', 'type', 'investigative', 'journalism', 'Greenwald', ',', 'Poitras', 'Scahill', 'become', 'know', '.', '``', 'Our', 'longer-term', 'mission', 'provide', 'aggressive', 'independent', 'adversarial', 'journalism', 'across', 'wide', 'range', 'issues', ',', 'secrecy', ',', 'criminal', 'civil', 'justice', 'abuses', 'civil', 'liberties', 'violations', 'media', 'conduct', ',', 'societal', 'inequality', 'forms', 'financial', 'political', 'corruption', ',', \"''\", 'wrote', 'blog', 'post', '.', 'The', 'Intercept', 'first', 'series', '``', 'digital', 'magazines', \"''\", 'launched', 'Pierre', 'Omidyar', \"'s\", 'First', 'Look', 'Media', '.', 'Future', 'sites', 'cover', 'topics', 'sports', 'entertainment', 'business', 'politics', '.', 'Greenwald', 'left', 'The', 'Guardian', 'late', '2013', 'join', 'efforts', 'Omidyar', ',', 'founded', 'eBay', 'net', 'worth', '$', '8.5', 'billion', ',', 'according', 'Forbes', '.']\n"
     ]
    }
   ],
   "source": [
    "from nltk.corpus import stopwords\n",
    "from nltk.tokenize import word_tokenize\n",
    "\n",
    "example_sent =  \"\"\"\n",
    "  Glenn Greenwald's New Site Goes Live With NSA Allegations\n",
    "\n",
    "Glenn Greenwald's new site devoted to the security leaks of Edward Snowden and broader \"adversarial journalism\" has launched as The Intercept.\n",
    "The site is led by Greenwald and two other noted investigative journalists - Laura Poitras and Jeremy Scahill. Scahill takes the lead bylines with Greenwald on the site's first major story - an investigation of the NSA's role in locating targets for U.S. drone strikes.\n",
    "See also: 7 Landmark Tech Laws Passed in 2013\n",
    "In an initial post entitled \"Welcome to The Intercept,\" Greenwald, Poitras and Scahill lay out the editorial vision for the site. In the short term, The Intercept will \"provide a platform and an editorial structure in which to aggressively report on the disclosures provided to us by our source, NSA whistleblower Edward Snowden,\" they wrote in a blog post on the site.\n",
    "While the Snowden leak has already formed the basis of a large number of revelations about U.S. surveillance efforts, this may just be the tip of the iceberg. As more information about the leak comes to light, the scope of Snowden's theft has grown. Lawmakers recently claimed Snowden took about 1.7 million files.\n",
    "The broader vision for the site includes the type of investigative journalism for which Greenwald, Poitras and Scahill have become know.\n",
    "\"Our longer-term mission is to provide aggressive and independent adversarial journalism across a wide range of issues, from secrecy, criminal and civil justice abuses and civil liberties violations to media conduct, societal inequality and all forms of financial and political corruption,\" they wrote in a blog post.\n",
    "The Intercept is the first in a series of \"digital magazines\" that will be launched by Pierre Omidyar's First Look Media. Future sites will cover topics from sports and entertainment to business and politics.\n",
    "Greenwald left The Guardian in late 2013 to join the efforts of Omidyar, who founded eBay and has a net worth of $8.5 billion, according to Forbes.\n",
    "  \"\"\"\n",
    "\n",
    "stop_words = set(stopwords.words('english'))\n",
    "\n",
    "word_tokens = word_tokenize(example_sent)\n",
    "\n",
    "filtered_sentence = [w for w in word_tokens if not w in stop_words]\n",
    "\n",
    "filtered_sentence = []\n",
    "\n",
    "for w in word_tokens:\n",
    "    if w not in stop_words:\n",
    "        filtered_sentence.append(w)\n",
    "\n",
    "print(word_tokens)\n",
    "print(filtered_sentence)\n"
   ]
  },
  {
   "cell_type": "code",
   "execution_count": 107,
   "metadata": {},
   "outputs": [
    {
     "name": "stdout",
     "output_type": "stream",
     "text": [
      "['Glenn', 'Greenwald', \"'s\", 'New', 'Site', 'Goes', 'Live', 'With', 'NSA', 'Allegations', 'Glenn', 'Greenwald', \"'s\", 'new', 'site', 'devoted', 'to', 'the', 'security', 'leaks', 'of', 'Edward', 'Snowden', 'and', 'broader', '``', 'adversarial', 'journalism', \"''\", 'has', 'launched', 'as', 'The', 'Intercept', '.', 'The', 'site', 'is', 'led', 'by', 'Greenwald', 'and', 'two', 'other', 'noted', 'investigative', 'journalists', '-', 'Laura', 'Poitras', 'and', 'Jeremy', 'Scahill', '.', 'Scahill', 'takes', 'the', 'lead', 'bylines', 'with', 'Greenwald', 'on', 'the', 'site', \"'s\", 'first', 'major', 'story', '-', 'an', 'investigation', 'of', 'the', 'NSA', \"'s\", 'role', 'in', 'locating', 'targets', 'for', 'U.S.', 'drone', 'strikes', '.', 'See', 'also', ':', '7', 'Landmark', 'Tech', 'Laws', 'Passed', 'in', '2013', 'In', 'an', 'initial', 'post', 'entitled', '``', 'Welcome', 'to', 'The', 'Intercept', ',', \"''\", 'Greenwald', ',', 'Poitras', 'and', 'Scahill', 'lay', 'out', 'the', 'editorial', 'vision', 'for', 'the', 'site', '.', 'In', 'the', 'short', 'term', ',', 'The', 'Intercept', 'will', '``', 'provide', 'a', 'platform', 'and', 'an', 'editorial', 'structure', 'in', 'which', 'to', 'aggressively', 'report', 'on', 'the', 'disclosures', 'provided', 'to', 'us', 'by', 'our', 'source', ',', 'NSA', 'whistleblower', 'Edward', 'Snowden', ',', \"''\", 'they', 'wrote', 'in', 'a', 'blog', 'post', 'on', 'the', 'site', '.', 'While', 'the', 'Snowden', 'leak', 'has', 'already', 'formed', 'the', 'basis', 'of', 'a', 'large', 'number', 'of', 'revelations', 'about', 'U.S.', 'surveillance', 'efforts', ',', 'this', 'may', 'just', 'be', 'the', 'tip', 'of', 'the', 'iceberg', '.', 'As', 'more', 'information', 'about', 'the', 'leak', 'comes', 'to', 'light', ',', 'the', 'scope', 'of', 'Snowden', \"'s\", 'theft', 'has', 'grown', '.', 'Lawmakers', 'recently', 'claimed', 'Snowden', 'took', 'about', '1.7', 'million', 'files', '.', 'The', 'broader', 'vision', 'for', 'the', 'site', 'includes', 'the', 'type', 'of', 'investigative', 'journalism', 'for', 'which', 'Greenwald', ',', 'Poitras', 'and', 'Scahill', 'have', 'become', 'know', '.', '``', 'Our', 'longer-term', 'mission', 'is', 'to', 'provide', 'aggressive', 'and', 'independent', 'adversarial', 'journalism', 'across', 'a', 'wide', 'range', 'of', 'issues', ',', 'from', 'secrecy', ',', 'criminal', 'and', 'civil', 'justice', 'abuses', 'and', 'civil', 'liberties', 'violations', 'to', 'media', 'conduct', ',', 'societal', 'inequality', 'and', 'all', 'forms', 'of', 'financial', 'and', 'political', 'corruption', ',', \"''\", 'they', 'wrote', 'in', 'a', 'blog', 'post', '.', 'The', 'Intercept', 'is', 'the', 'first', 'in', 'a', 'series', 'of', '``', 'digital', 'magazines', \"''\", 'that', 'will', 'be', 'launched', 'by', 'Pierre', 'Omidyar', \"'s\", 'First', 'Look', 'Media', '.', 'Future', 'sites', 'will', 'cover', 'topics', 'from', 'sports', 'and', 'entertainment', 'to', 'business', 'and', 'politics', '.', 'Greenwald', 'left', 'The', 'Guardian', 'in', 'late', '2013', 'to', 'join', 'the', 'efforts', 'of', 'Omidyar', ',', 'who', 'founded', 'eBay', 'and', 'has', 'a', 'net', 'worth', 'of', '$', '8.5', 'billion', ',', 'according', 'to', 'Forbes', '.']\n",
      "['Glenn', 'Greenwald', \"'s\", 'New', 'Site', 'Goes', 'Live', 'With', 'NSA', 'Allegations', 'Glenn', 'Greenwald', \"'s\", 'new', 'site', 'devoted', 'security', 'leaks', 'Edward', 'Snowden', 'broader', '``', 'adversarial', 'journalism', \"''\", 'launched', 'The', 'Intercept', '.', 'The', 'site', 'led', 'Greenwald', 'two', 'noted', 'investigative', 'journalists', '-', 'Laura', 'Poitras', 'Jeremy', 'Scahill', '.', 'Scahill', 'takes', 'lead', 'bylines', 'Greenwald', 'site', \"'s\", 'first', 'major', 'story', '-', 'investigation', 'NSA', \"'s\", 'role', 'locating', 'targets', 'U.S.', 'drone', 'strikes', '.', 'See', 'also', ':', '7', 'Landmark', 'Tech', 'Laws', 'Passed', '2013', 'In', 'initial', 'post', 'entitled', '``', 'Welcome', 'The', 'Intercept', ',', \"''\", 'Greenwald', ',', 'Poitras', 'Scahill', 'lay', 'editorial', 'vision', 'site', '.', 'In', 'short', 'term', ',', 'The', 'Intercept', '``', 'provide', 'platform', 'editorial', 'structure', 'aggressively', 'report', 'disclosures', 'provided', 'us', 'source', ',', 'NSA', 'whistleblower', 'Edward', 'Snowden', ',', \"''\", 'wrote', 'blog', 'post', 'site', '.', 'While', 'Snowden', 'leak', 'already', 'formed', 'basis', 'large', 'number', 'revelations', 'U.S.', 'surveillance', 'efforts', ',', 'may', 'tip', 'iceberg', '.', 'As', 'information', 'leak', 'comes', 'light', ',', 'scope', 'Snowden', \"'s\", 'theft', 'grown', '.', 'Lawmakers', 'recently', 'claimed', 'Snowden', 'took', '1.7', 'million', 'files', '.', 'The', 'broader', 'vision', 'site', 'includes', 'type', 'investigative', 'journalism', 'Greenwald', ',', 'Poitras', 'Scahill', 'become', 'know', '.', '``', 'Our', 'longer-term', 'mission', 'provide', 'aggressive', 'independent', 'adversarial', 'journalism', 'across', 'wide', 'range', 'issues', ',', 'secrecy', ',', 'criminal', 'civil', 'justice', 'abuses', 'civil', 'liberties', 'violations', 'media', 'conduct', ',', 'societal', 'inequality', 'forms', 'financial', 'political', 'corruption', ',', \"''\", 'wrote', 'blog', 'post', '.', 'The', 'Intercept', 'first', 'series', '``', 'digital', 'magazines', \"''\", 'launched', 'Pierre', 'Omidyar', \"'s\", 'First', 'Look', 'Media', '.', 'Future', 'sites', 'cover', 'topics', 'sports', 'entertainment', 'business', 'politics', '.', 'Greenwald', 'left', 'The', 'Guardian', 'late', '2013', 'join', 'efforts', 'Omidyar', ',', 'founded', 'eBay', 'net', 'worth', '$', '8.5', 'billion', ',', 'according', 'Forbes', '.']\n",
      "Vocabulary size: 373\n",
      "Vocabulary content:\n",
      " ['Glenn', 'Greenwald', \"'s\", 'New', 'Site', 'Goes', 'Live', 'With', 'NSA', 'Allegations', 'Glenn', 'Greenwald', \"'s\", 'new', 'site', 'devoted', 'to', 'the', 'security', 'leaks', 'of', 'Edward', 'Snowden', 'and', 'broader', '``', 'adversarial', 'journalism', \"''\", 'has', 'launched', 'as', 'The', 'Intercept', '.', 'The', 'site', 'is', 'led', 'by', 'Greenwald', 'and', 'two', 'other', 'noted', 'investigative', 'journalists', '-', 'Laura', 'Poitras', 'and', 'Jeremy', 'Scahill', '.', 'Scahill', 'takes', 'the', 'lead', 'bylines', 'with', 'Greenwald', 'on', 'the', 'site', \"'s\", 'first', 'major', 'story', '-', 'an', 'investigation', 'of', 'the', 'NSA', \"'s\", 'role', 'in', 'locating', 'targets', 'for', 'U.S.', 'drone', 'strikes', '.', 'See', 'also', ':', '7', 'Landmark', 'Tech', 'Laws', 'Passed', 'in', '2013', 'In', 'an', 'initial', 'post', 'entitled', '``', 'Welcome', 'to', 'The', 'Intercept', ',', \"''\", 'Greenwald', ',', 'Poitras', 'and', 'Scahill', 'lay', 'out', 'the', 'editorial', 'vision', 'for', 'the', 'site', '.', 'In', 'the', 'short', 'term', ',', 'The', 'Intercept', 'will', '``', 'provide', 'a', 'platform', 'and', 'an', 'editorial', 'structure', 'in', 'which', 'to', 'aggressively', 'report', 'on', 'the', 'disclosures', 'provided', 'to', 'us', 'by', 'our', 'source', ',', 'NSA', 'whistleblower', 'Edward', 'Snowden', ',', \"''\", 'they', 'wrote', 'in', 'a', 'blog', 'post', 'on', 'the', 'site', '.', 'While', 'the', 'Snowden', 'leak', 'has', 'already', 'formed', 'the', 'basis', 'of', 'a', 'large', 'number', 'of', 'revelations', 'about', 'U.S.', 'surveillance', 'efforts', ',', 'this', 'may', 'just', 'be', 'the', 'tip', 'of', 'the', 'iceberg', '.', 'As', 'more', 'information', 'about', 'the', 'leak', 'comes', 'to', 'light', ',', 'the', 'scope', 'of', 'Snowden', \"'s\", 'theft', 'has', 'grown', '.', 'Lawmakers', 'recently', 'claimed', 'Snowden', 'took', 'about', '1.7', 'million', 'files', '.', 'The', 'broader', 'vision', 'for', 'the', 'site', 'includes', 'the', 'type', 'of', 'investigative', 'journalism', 'for', 'which', 'Greenwald', ',', 'Poitras', 'and', 'Scahill', 'have', 'become', 'know', '.', '``', 'Our', 'longer-term', 'mission', 'is', 'to', 'provide', 'aggressive', 'and', 'independent', 'adversarial', 'journalism', 'across', 'a', 'wide', 'range', 'of', 'issues', ',', 'from', 'secrecy', ',', 'criminal', 'and', 'civil', 'justice', 'abuses', 'and', 'civil', 'liberties', 'violations', 'to', 'media', 'conduct', ',', 'societal', 'inequality', 'and', 'all', 'forms', 'of', 'financial', 'and', 'political', 'corruption', ',', \"''\", 'they', 'wrote', 'in', 'a', 'blog', 'post', '.', 'The', 'Intercept', 'is', 'the', 'first', 'in', 'a', 'series', 'of', '``', 'digital', 'magazines', \"''\", 'that', 'will', 'be', 'launched', 'by', 'Pierre', 'Omidyar', \"'s\", 'First', 'Look', 'Media', '.', 'Future', 'sites', 'will', 'cover', 'topics', 'from', 'sports', 'and', 'entertainment', 'to', 'business', 'and', 'politics', '.', 'Greenwald', 'left', 'The', 'Guardian', 'in', 'late', '2013', 'to', 'join', 'the', 'efforts', 'of', 'Omidyar', ',', 'who', 'founded', 'eBay', 'and', 'has', 'a', 'net', 'worth', 'of', '$', '8.5', 'billion', ',', 'according', 'to', 'Forbes', '.']\n",
      "Vocabulary size: 258\n",
      "Vocabulary content:\n",
      " ['Glenn', 'Greenwald', \"'s\", 'New', 'Site', 'Goes', 'Live', 'With', 'NSA', 'Allegations', 'Glenn', 'Greenwald', \"'s\", 'new', 'site', 'devoted', 'security', 'leaks', 'Edward', 'Snowden', 'broader', '``', 'adversarial', 'journalism', \"''\", 'launched', 'The', 'Intercept', '.', 'The', 'site', 'led', 'Greenwald', 'two', 'noted', 'investigative', 'journalists', '-', 'Laura', 'Poitras', 'Jeremy', 'Scahill', '.', 'Scahill', 'takes', 'lead', 'bylines', 'Greenwald', 'site', \"'s\", 'first', 'major', 'story', '-', 'investigation', 'NSA', \"'s\", 'role', 'locating', 'targets', 'U.S.', 'drone', 'strikes', '.', 'See', 'also', ':', '7', 'Landmark', 'Tech', 'Laws', 'Passed', '2013', 'In', 'initial', 'post', 'entitled', '``', 'Welcome', 'The', 'Intercept', ',', \"''\", 'Greenwald', ',', 'Poitras', 'Scahill', 'lay', 'editorial', 'vision', 'site', '.', 'In', 'short', 'term', ',', 'The', 'Intercept', '``', 'provide', 'platform', 'editorial', 'structure', 'aggressively', 'report', 'disclosures', 'provided', 'us', 'source', ',', 'NSA', 'whistleblower', 'Edward', 'Snowden', ',', \"''\", 'wrote', 'blog', 'post', 'site', '.', 'While', 'Snowden', 'leak', 'already', 'formed', 'basis', 'large', 'number', 'revelations', 'U.S.', 'surveillance', 'efforts', ',', 'may', 'tip', 'iceberg', '.', 'As', 'information', 'leak', 'comes', 'light', ',', 'scope', 'Snowden', \"'s\", 'theft', 'grown', '.', 'Lawmakers', 'recently', 'claimed', 'Snowden', 'took', '1.7', 'million', 'files', '.', 'The', 'broader', 'vision', 'site', 'includes', 'type', 'investigative', 'journalism', 'Greenwald', ',', 'Poitras', 'Scahill', 'become', 'know', '.', '``', 'Our', 'longer-term', 'mission', 'provide', 'aggressive', 'independent', 'adversarial', 'journalism', 'across', 'wide', 'range', 'issues', ',', 'secrecy', ',', 'criminal', 'civil', 'justice', 'abuses', 'civil', 'liberties', 'violations', 'media', 'conduct', ',', 'societal', 'inequality', 'forms', 'financial', 'political', 'corruption', ',', \"''\", 'wrote', 'blog', 'post', '.', 'The', 'Intercept', 'first', 'series', '``', 'digital', 'magazines', \"''\", 'launched', 'Pierre', 'Omidyar', \"'s\", 'First', 'Look', 'Media', '.', 'Future', 'sites', 'cover', 'topics', 'sports', 'entertainment', 'business', 'politics', '.', 'Greenwald', 'left', 'The', 'Guardian', 'late', '2013', 'join', 'efforts', 'Omidyar', ',', 'founded', 'eBay', 'net', 'worth', '$', '8.5', 'billion', ',', 'according', 'Forbes', '.']\n"
     ]
    }
   ],
   "source": [
    "print(word_tokens)\n",
    "print(filtered_sentence)\n",
    "\n",
    "print(\"Vocabulary size: {}\".format(len(word_tokens)))\n",
    "print(\"Vocabulary content:\\n {}\".format(word_tokens))\n",
    "\n",
    "\n",
    "print(\"Vocabulary size: {}\".format(len(filtered_sentence)))\n",
    "print(\"Vocabulary content:\\n {}\".format(filtered_sentence))"
   ]
  },
  {
   "cell_type": "code",
   "execution_count": null,
   "metadata": {
    "collapsed": true
   },
   "outputs": [],
   "source": []
  }
 ],
 "metadata": {
  "kernelspec": {
   "display_name": "Python 3",
   "language": "python",
   "name": "python3"
  },
  "language_info": {
   "codemirror_mode": {
    "name": "ipython",
    "version": 3
   },
   "file_extension": ".py",
   "mimetype": "text/x-python",
   "name": "python",
   "nbconvert_exporter": "python",
   "pygments_lexer": "ipython3",
   "version": "3.6.1"
  }
 },
 "nbformat": 4,
 "nbformat_minor": 2
}
